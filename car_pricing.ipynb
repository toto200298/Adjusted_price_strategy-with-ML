{
 "cells": [
  {
   "cell_type": "markdown",
   "id": "08dbd226",
   "metadata": {},
   "source": [
    "# CAR PRICING MODEL\n",
    "by Alfonso Cervantes Barragán   \n",
    "By any questions or recommendation contact me: email a.cervantes2012@hotmail.com"
   ]
  },
  {
   "cell_type": "markdown",
   "id": "dff7d0d8",
   "metadata": {},
   "source": [
    "## Table of Contents\n",
    "\n",
    "1. [Problem](#problem)\n",
    "2. [Objective](#objective)\n",
    "3. [Proposed solution](#proposed_solution)  \n",
    "   [Adjusted price strategy](#adjusted_strategy)\n",
    "4. [Data preprocessing](#data_preprocesing)  \n",
    "   [Description of dataset](#description_dataset)  \n",
    "   [Handling of missing values](#missing_values)   \n",
    "   [Removing columns](#removing_columns)  \n",
    "   [Variable Vin](#variable_vin)\n",
    "   [Variable price](#handling_prince)  \n",
    "   [Variable odometer](#handling_odometer)   \n",
    "   [Variable condition](#handling_condition)  \n",
    "   [Imbalance inside cathegorical variable](#imbalance)  \n",
    "   [Feature engineering](#feature_engineering)  \n",
    "   [Variable odometer](#odometer_cathegorical)\n",
    "5. [Data analysis](#data_analysis)  \n",
    "   [Discriminatory power of the variables](#discriminatory_power)\n",
    "6. [Modeling](#modeling)  \n",
    "   [model lightgbm](#lightgbm)     \n",
    "   [Hyperparameter tunning](#grid_search)    \n",
    "   [Results](#results)    \n",
    "   [Actual vs predicted prices](#actual_vs_predicted)    \n",
    "     [Distribution of residuals](#residuals)  \n",
    "            [Adjustment of prices based on adjusted price strategy](#adjusted_prices_model)\n",
    "                [Change in profit and loss](#profit_loss)    \n",
    "                [Change in probability of saling](#pro_of_saling)\n",
    "7. [Question Asigned](#asigned_question)  \n",
    "        [Variable odometer](#variable_odometer_a)  \n",
    "        [Variable condition](#variable_condition_a)  \n",
    "        [Variable_vin](#variable_vin_a)    \n",
    "        [Variable price](#variable_price_a)  \n",
    "        [About the model](#model_a)  \n"
   ]
  },
  {
   "cell_type": "markdown",
   "id": "eab4f1e6",
   "metadata": {},
   "source": [
    "     \n",
    "   \n",
    "## PROBLEM  <a name=\"problem\"></a>\n",
    "\n",
    "The Innovation and Sales departments aim to modernize operations by reducing friction in the sales process. To achieve this, you suggest developing a model to automatically price cars, enabling potential customers to engage in a self-service purchasing process online or in-store. \n",
    "\n",
    "The task involves constructing this model using available datasets: \"vehicles.csv,\" \"crashes_poverty.csv,\" and \"counties.csv.\"\n",
    "\n"
   ]
  },
  {
   "cell_type": "markdown",
   "id": "fe3e01ff",
   "metadata": {},
   "source": [
    "## Objective  <a name=\"objective\"></a>\n",
    "\n",
    "A pricing model should be built that predicts the optimal price for\n",
    "each car to maximize profits while maintaining a high likelihood of closing sales."
   ]
  },
  {
   "cell_type": "markdown",
   "id": "38d94a39",
   "metadata": {},
   "source": [
    "## Proposed solution <a name=\"proposed_solution\">"
   ]
  },
  {
   "cell_type": "markdown",
   "id": "9d2189c4",
   "metadata": {},
   "source": [
    "### Adjusted Price Strategy <a name=\"adjusted_strategy\">"
   ]
  },
  {
   "cell_type": "markdown",
   "id": "20ba9e7f",
   "metadata": {},
   "source": [
    "An adjusted pricing strategy is a dynamic approach to setting the advertised price of products or services, which considers various factors such as market conditions, competitor strategies, customer preferences, and economic indicators.  \n",
    "\n",
    "The primary objective is twofold: to boost profitability and market share by establishing prices that are perceived as fair and competitive, while aligning with the company's goals. This strategy entails continuously adapting prices based on the probability of making a sale, aiming to strike a delicate balance between maximizing revenue and ensuring a favorable likelihood of transaction completion.\n",
    "\n",
    "Advantages of the Adjusted Price Strategy:\n",
    "- **Maximized Profits**: By pricing products slightly above market value, the strategy enables the dealership to capture additional value on each sale.\n",
    "- **High Likelihood of Selling**: Adjusting prices based on the probability of selling ensures that products remain appealing to potential buyers, resulting in increased sales volume.\n",
    "- **Competitive Advantage**: Adjusted prices strike a balance between profitability and competitiveness, providing the dealership with an advantageous position in the market.\n",
    "- **Adaptability**: The strategy is flexible and adaptable to changing market dynamics and customer preferences, allowing for responsive pricing decisions."
   ]
  },
  {
   "cell_type": "markdown",
   "id": "299959eb",
   "metadata": {},
   "source": [
    "**Steps for the implementation of the Adjusted Price Strategy:**\n",
    "\n",
    "1. **Predictive Model Selection**:\n",
    "   - The strategy begins with the selection of an appropriate predictive model,which can capture complex relationships\n",
    "between car features and prices. \n",
    "\n",
    "2. **Market Value Consideration**:\n",
    "   - Before adjusting the predicted price, the model takes into account the market value of the car. The market value serves as a benchmark against which the predicted price is compared.\n",
    "\n",
    "3. **Calculation of Overcharge Ratio**:\n",
    "   - The overcharge ratio is calculated by dividing the predicted price by the market value and subtracting 1. This ratio indicates how much the predicted price exceeds the market value, if at all.\n",
    "   \n",
    "   $$overcharge \\: = \\frac{predicted \\: price}{market \\: value} - 1 $$\n",
    "   \n",
    "4. **Probability of Selling**:\n",
    "   - The overcharge ratio is then used to calculate the probability of selling the car. This probability represents the likelihood that the car will be sold at the predicted price, considering the extent to which it exceeds  the market value.   - The probability of selling is calculated as the difference between 1 and the minimum of 1 and the overcharge ratio. \n",
    "   \n",
    "   $$P(predicted \\: price |market \\: value) = 1 - min(1, overcharge \\: ratio) $$\n",
    "   \n",
    "\n",
    "5. **Adjustment Based on Probability Threshold**:\n",
    "   - Next, the strategy defines a probability threshold, representing the minimum acceptable probability of selling. This threshold is set based on business objectives and market dynamics.\n",
    "   - If the overcharge ratio is positive (indicating the predicted price is higher than the market value) and the probability of selling exceeds the threshold, the price is adjusted.\n",
    "   - The adjusted price is calculated by multiplying the predicted price by the probability of selling. This adjustment ensures that the price remains attractive enough to maintain a high likelihood of selling while still maximizing profitability.\n",
    "   \n",
    "   $$Adjusted \\: price = Predicted \\: price \\times P(predicted \\: price | market \\: value) $$\n",
    "\n",
    "\n"
   ]
  },
  {
   "cell_type": "markdown",
   "id": "98d4526a",
   "metadata": {},
   "source": [
    "### Intalling libraries"
   ]
  },
  {
   "cell_type": "code",
   "execution_count": 392,
   "id": "cb5fca03",
   "metadata": {},
   "outputs": [],
   "source": [
    "#installing module \"xgboost\"\n",
    "#!pip install xgboost\n",
    "\n",
    "#installing module \"lightgbm\"\n",
    "#!pip install lightgbm"
   ]
  },
  {
   "cell_type": "markdown",
   "id": "ac0d5e25",
   "metadata": {},
   "source": [
    "### Loading libraries"
   ]
  },
  {
   "cell_type": "code",
   "execution_count": 393,
   "id": "2897d179",
   "metadata": {},
   "outputs": [],
   "source": [
    "import pandas as pd\n",
    "\n",
    "import numpy as np\n",
    "\n",
    "import matplotlib.pyplot as plt\n",
    "import seaborn as sns\n",
    "\n",
    "from sklearn.linear_model import LinearRegression\n",
    "from sklearn.preprocessing import OneHotEncoder\n",
    "from sklearn.compose import ColumnTransformer\n",
    "from sklearn.pipeline import Pipeline\n",
    "from sklearn.metrics import r2_score\n",
    "from sklearn.ensemble import RandomForestRegressor\n",
    "from sklearn.metrics import mean_squared_error\n",
    "from sklearn.model_selection import train_test_split\n",
    "from sklearn.model_selection import GridSearchCV, RandomizedSearchCV\n",
    "\n",
    "import xgboost as xgb\n",
    "import lightgbm as lgb\n",
    "\n",
    "import regex as re\n",
    "from unidecode import unidecode"
   ]
  },
  {
   "cell_type": "markdown",
   "id": "3de6f1cb",
   "metadata": {},
   "source": [
    "### DATA PREPROCESSING   <a name=\"data_preprocessing\">\n"
   ]
  },
  {
   "cell_type": "markdown",
   "id": "4b8832fa",
   "metadata": {},
   "source": [
    "#### Load datasets"
   ]
  },
  {
   "cell_type": "code",
   "execution_count": 394,
   "id": "4681c0a1",
   "metadata": {},
   "outputs": [],
   "source": [
    "# Load datasets\n",
    "vehicles_df = pd.read_csv('vehicles.csv')\n"
   ]
  },
  {
   "cell_type": "markdown",
   "id": "fb8c3d31",
   "metadata": {},
   "source": [
    "The datasets \"county.csv\" and \"crashes_poverty.csv\" will be excluded from consideration for the car pricing objective as I believe their information is unrelated. \"county.csv\" solely contains a mapping between state names and their abbreviations, which is not pertinent to determining car prices. Similarly, \"crashes_poverty.csv\" includes variables such as \"Number of crashes\" and \"Poverty,\" which are deemed irrelevant for car pricing since they do not provide insight into the condition of the vehicles."
   ]
  },
  {
   "cell_type": "markdown",
   "id": "d6938175",
   "metadata": {},
   "source": [
    "#### Description of dataset <a name=\"description_dataset\">"
   ]
  },
  {
   "cell_type": "markdown",
   "id": "9a30f917",
   "metadata": {},
   "source": [
    "**Vehicles dataset**\n",
    "\n",
    "This dataset serves the purpose of providing information about used cars available for sale or listing, including various attributes and details to help potential buyers make informed decisions."
   ]
  },
  {
   "cell_type": "code",
   "execution_count": 395,
   "id": "31cdc52a",
   "metadata": {
    "scrolled": true
   },
   "outputs": [
    {
     "name": "stdout",
     "output_type": "stream",
     "text": [
      "Number of rows  26988\n",
      "Number of columns  21\n"
     ]
    }
   ],
   "source": [
    "print(\"Number of rows \", vehicles_df.shape[0])\n",
    "print(\"Number of columns \", vehicles_df.shape[1])\n"
   ]
  },
  {
   "cell_type": "markdown",
   "id": "c42d796d",
   "metadata": {},
   "source": [
    "Here's a breakdown of what each column likely represents:\n",
    "\n",
    "- **region**: The geographical region or area where the car is being sold or listed (string)\n",
    "- **price**: The price of the car. (integer)\n",
    "- **year**: The year the car was manufactured.(integer)\n",
    "- **manufacturer**: The company that manufactured the car. (string)\n",
    "- **model**: The specific model of the car. (string)\n",
    "- **condition**: The condition of the car (excellent', 'good', 'like new', 'fair', 'new', 'salvage'). (string)\n",
    "- **cylinders**: The number of cylinders in the car's engine. (string)\n",
    "- **fuel**: The type of fuel the car uses (e.g., gasoline, diesel, electric, etc.). (string)\n",
    "- **odometer**: The mileage or distance traveled by the car. (float)\n",
    "- **title_status**: The status of the car's title . (string)\n",
    "- **transmission**: The type of transmission in the car ('automatic', 'manual', 'other'). (string)\n",
    "- **vin**: The Vehicle Identification Number, a unique code assigned to each vehicle. (string)\n",
    "- **drive**: The drive type of the car (front-wheel drive (fwd), rear-wheel drive (rwd), 4wd). (string)\n",
    "- **size**: The size category of the car ('mid-size', 'compact', 'full-size', 'sub-compact'). (string)\n",
    "- **type**: The type of body style of the car ('wagon', 'pickup', 'sedan', 'coupe', 'van', 'mini-van', 'SUV',\n",
    "       'truck', 'other', 'hatchback', 'convertible', 'bus', 'offroad'). (string)\n",
    "- **paint_color**: The color of the car's exterior paint ('white', 'red', 'silver', 'grey', 'black', 'blue', 'brown',\n",
    "       'custom', 'purple', 'green', 'yellow', 'orange').(string)\n",
    "- **description**: Additional description or details about the car. (string)\n",
    "- **county**: The county where the car is located.\n",
    "- **state**: The state where the car is located. (string)\n",
    "- **lat**: The latitude coordinates of the car's location. (float)\n",
    "- **long**: The longitude coordinates of the car's location. (float)\n"
   ]
  },
  {
   "cell_type": "markdown",
   "id": "1761f4a2",
   "metadata": {},
   "source": [
    "### Handling of missing values  <a name=\"missing_values\">\n",
    "\n",
    "Calculating percentage of missing values per column"
   ]
  },
  {
   "cell_type": "code",
   "execution_count": 396,
   "id": "064b0152",
   "metadata": {
    "scrolled": false
   },
   "outputs": [
    {
     "data": {
      "text/plain": [
       "region            0.000000\n",
       "price             0.000000\n",
       "year              0.185268\n",
       "manufacturer      4.424189\n",
       "model             1.567363\n",
       "condition        43.145102\n",
       "cylinders        41.892693\n",
       "fuel              0.622499\n",
       "odometer         18.508226\n",
       "title_status      0.507633\n",
       "transmission      0.874463\n",
       "vin              40.284571\n",
       "drive            29.627983\n",
       "size             69.075145\n",
       "type             26.534015\n",
       "paint_color      32.570031\n",
       "description       0.011116\n",
       "county          100.000000\n",
       "state             0.000000\n",
       "lat               1.330221\n",
       "long              1.330221\n",
       "dtype: float64"
      ]
     },
     "execution_count": 396,
     "metadata": {},
     "output_type": "execute_result"
    }
   ],
   "source": [
    "vehicles_df.isnull().sum()*100/vehicles_df.shape[0]"
   ]
  },
  {
   "cell_type": "markdown",
   "id": "58f538d6",
   "metadata": {},
   "source": [
    "**Visualizing degree of missing values across the dataset**"
   ]
  },
  {
   "cell_type": "code",
   "execution_count": 397,
   "id": "e9ac5297",
   "metadata": {
    "scrolled": false
   },
   "outputs": [
    {
     "data": {
      "image/png": "[encoded data removed]",
      "text/plain": [
       "<Figure size 1000x400 with 1 Axes>"
      ]
     },
     "metadata": {},
     "output_type": "display_data"
    }
   ],
   "source": [
    "plt.figure(figsize=(10, 4))\n",
    "sns.heatmap(vehicles_df.isnull(), cmap='viridis', cbar=False)\n",
    "plt.title('Missing Values in DataFrame')\n",
    "plt.xlabel('Columns')\n",
    "plt.ylabel('Rows')\n",
    "plt.show()"
   ]
  },
  {
   "cell_type": "markdown",
   "id": "c52e1586",
   "metadata": {},
   "source": [
    "**Level of dataset corruption**  \n",
    "\n",
    "Ratio between the number of fields in the dataset containing missing values and the total number of fields in the dataset."
   ]
  },
  {
   "cell_type": "code",
   "execution_count": 398,
   "id": "0cd90116",
   "metadata": {},
   "outputs": [
    {
     "name": "stdout",
     "output_type": "stream",
     "text": [
      "The level of corruption is  19.642416029699266  %\n"
     ]
    }
   ],
   "source": [
    "per=vehicles_df.isnull().sum().sum()*100/(vehicles_df.shape[0]*vehicles_df.shape[1])\n",
    "print(\"The level of corruption is \", per, \" %\")"
   ]
  },
  {
   "cell_type": "markdown",
   "id": "f8ef94f4",
   "metadata": {},
   "source": [
    "**Conclusiones:**\n",
    "\n",
    "1. Year, Fuel, Title_status, Transmission, Description, Model, Latitude,Longitude and Manufacturer: The missing values for this columns are relatively low (< 5%).\n",
    "\n",
    "2. Odometer, Drive, Type and Paint Color: These columns have a moderate percentage of missing values, ranging from 18.5% to 32.57%. Missing values in these columns may impact analysis and decision-making.\n",
    "\n",
    "3. VIN, Conditions, Cylinders: The missing values are notably high with percentage range between 40% and 43%.\n",
    "\n",
    "4. Size: The missing values are extrem high with percentage of 69%, with a vast majority of entries lacking this information. Therefore, the column will be removed. \n",
    "\n",
    "5. county: does not contain any concrete data. Therefore, the column will be removed.\n",
    "\n",
    "6. Around 20% of the fields in a dataset contain missing values.This result suggests a notable level of incompleteness in the data. This proportion of missing values may impact the reliability and accuracy of analyses conducted on the dataset."
   ]
  },
  {
   "cell_type": "markdown",
   "id": "13a03995",
   "metadata": {},
   "source": [
    "In summary, the presence of missing values poses significant challenges to the accuracy and reliability of results. Therefore, it's crucial to adopt appropriate techniques such as imputation or exclusion to manage these missing values effectively."
   ]
  },
  {
   "cell_type": "markdown",
   "id": "c3891186",
   "metadata": {},
   "source": [
    "#### Removing columns  <a name=\"removing_columns\"></a>\n",
    "\n",
    "**Columns \"county\" and \"size\"**\n",
    "\n",
    "Due to the high degree of missing values corresponding to percentages greater than 69%, the columns will be removed."
   ]
  },
  {
   "cell_type": "code",
   "execution_count": 399,
   "id": "19d613ed",
   "metadata": {},
   "outputs": [],
   "source": [
    "vehicles_df.drop(columns=[\"county\",\"size\"], inplace=True)"
   ]
  },
  {
   "cell_type": "markdown",
   "id": "960e7bb6",
   "metadata": {},
   "source": [
    "**Columns \"Latitude\" and \"Longitude\"**  \n",
    "\n",
    "Although the level of missing values of this variables is not very high, Latitude and longitude coordinates represent geographic location, which is already indicated through the columns State and region. Including latitude and longitude as predictor variables might not provide meaningful insights for price prediction."
   ]
  },
  {
   "cell_type": "code",
   "execution_count": 400,
   "id": "1f586e43",
   "metadata": {},
   "outputs": [],
   "source": [
    "vehicles_df.drop(columns=[\"lat\",\"long\"],inplace=True)"
   ]
  },
  {
   "cell_type": "markdown",
   "id": "9b67ebdd",
   "metadata": {},
   "source": [
    "**Removing the column \"description\"** \n",
    "\n",
    "Removing car descriptions from a pricing prediction dataset is justified due to their unstructured nature and subjectivity. Including descriptions increases dimensionality, complicates data preprocessing, and may not improve model accuracy. By removing them, the dataset becomes more streamlined."
   ]
  },
  {
   "cell_type": "code",
   "execution_count": 401,
   "id": "4c892cbb",
   "metadata": {},
   "outputs": [],
   "source": [
    "vehicles_df.drop(columns=[\"description\"],inplace=True)"
   ]
  },
  {
   "cell_type": "markdown",
   "id": "16ef087b",
   "metadata": {},
   "source": [
    "**Variable VIN** <a name=\"handling_of_vin\"></a>"
   ]
  },
  {
   "cell_type": "markdown",
   "id": "7c3ddddb",
   "metadata": {},
   "source": [
    "**Handling of duplicated rows according to the VIN**"
   ]
  },
  {
   "cell_type": "code",
   "execution_count": 402,
   "id": "a7389455",
   "metadata": {
    "scrolled": true
   },
   "outputs": [
    {
     "name": "stdout",
     "output_type": "stream",
     "text": [
      "Number of duplicated VIN 1307\n"
     ]
    }
   ],
   "source": [
    "duplicate_rows = vehicles_df[(vehicles_df.vin.duplicated()) & (vehicles_df.vin.notnull())]\n",
    "print(\"Number of duplicated VIN\", duplicate_rows.shape[0])"
   ]
  },
  {
   "cell_type": "markdown",
   "id": "a03e32ca",
   "metadata": {},
   "source": [
    "**Removing duplicate rows**"
   ]
  },
  {
   "cell_type": "code",
   "execution_count": 403,
   "id": "76da12d9",
   "metadata": {
    "scrolled": true
   },
   "outputs": [
    {
     "name": "stdout",
     "output_type": "stream",
     "text": [
      "number of rows remaining  25681\n"
     ]
    }
   ],
   "source": [
    "vehicles_df1 = vehicles_df[~vehicles_df.index.isin(duplicate_rows.index)].copy()\n",
    "print(\"number of rows remaining \", vehicles_df1.shape[0])"
   ]
  },
  {
   "cell_type": "markdown",
   "id": "84bdc477",
   "metadata": {},
   "source": [
    "**Removing column \"vin\"**"
   ]
  },
  {
   "cell_type": "code",
   "execution_count": 404,
   "id": "f16d76ad",
   "metadata": {},
   "outputs": [],
   "source": [
    "vehicles_df1.drop(columns=[\"vin\"],inplace=True)"
   ]
  },
  {
   "cell_type": "markdown",
   "id": "3d237d9b",
   "metadata": {},
   "source": [
    "Reason for removing the Vehicle Identification Number (VIN):  \n",
    "\n",
    "1. Uniqueness: VINs are unique identifiers assigned to individual vehicles. Including VINs in the dataset does not provide meaningful information for predicting car prices because each VIN corresponds to a specific car and does not contain inherent characteristics related to price prediction.  \n",
    "2. Non-predictive: VINs are not predictive of car prices themselves. While VINs are essential for purposes such as vehicle registration and tracking, they do not directly influence the price of a car. "
   ]
  },
  {
   "cell_type": "markdown",
   "id": "3717d607",
   "metadata": {},
   "source": [
    "**Removing columns \"region\"**"
   ]
  },
  {
   "cell_type": "markdown",
   "id": "60c62fb4",
   "metadata": {},
   "source": [
    "The decision to exclude the variable \"region\" is guided by the specific goals of the model. In this context, the aim is to precisely forecast prices across diverse regulatory landscapes, rather than emphasizing capturing general market trends, which can be highly variable over time. Moreover, incorporating both \"state\" and \"region\" could significantly escalate the complexity of the model, potentially complicating interpretation and diminishing its practical utility."
   ]
  },
  {
   "cell_type": "code",
   "execution_count": 405,
   "id": "cef9cfe0",
   "metadata": {},
   "outputs": [],
   "source": [
    "vehicles_df1.drop(columns=[\"region\"],inplace=True)"
   ]
  },
  {
   "cell_type": "markdown",
   "id": "e7c3a136",
   "metadata": {},
   "source": [
    "**Handling of missing values in column \"title_status\"**  \n",
    "\n",
    "The \"title_status\" column is categorical and comprises five distinct categories, as mentioned earlier. Given that the \"clean\" category represents approximately 95% of all assignments, it will serve as the basis for imputing missing values."
   ]
  },
  {
   "cell_type": "markdown",
   "id": "53a7e5db",
   "metadata": {},
   "source": [
    "Distribution of each category in the dataset"
   ]
  },
  {
   "cell_type": "code",
   "execution_count": 406,
   "id": "a04aa0f9",
   "metadata": {},
   "outputs": [
    {
     "data": {
      "text/plain": [
       "title_status\n",
       "clean         0.957061\n",
       "rebuilt       0.022076\n",
       "salvage       0.013543\n",
       "lien          0.005597\n",
       "missing       0.001213\n",
       "parts only    0.000509\n",
       "Name: count, dtype: float64"
      ]
     },
     "execution_count": 406,
     "metadata": {},
     "output_type": "execute_result"
    }
   ],
   "source": [
    "vehicles_df1.title_status.value_counts()/vehicles_df1[vehicles_df1.title_status.notnull()].shape[0]"
   ]
  },
  {
   "cell_type": "code",
   "execution_count": 407,
   "id": "76b8cd6d",
   "metadata": {},
   "outputs": [],
   "source": [
    "vehicles_df1.title_status.fillna(vehicles_df1.title_status.mode().iloc[0], inplace=True)"
   ]
  },
  {
   "cell_type": "markdown",
   "id": "e3313e78",
   "metadata": {},
   "source": [
    "Number of remaining missing values"
   ]
  },
  {
   "cell_type": "code",
   "execution_count": 408,
   "id": "b7b46a99",
   "metadata": {},
   "outputs": [
    {
     "data": {
      "text/plain": [
       "0"
      ]
     },
     "execution_count": 408,
     "metadata": {},
     "output_type": "execute_result"
    }
   ],
   "source": [
    "vehicles_df1.title_status.isnull().sum()"
   ]
  },
  {
   "cell_type": "markdown",
   "id": "f44c4bbc",
   "metadata": {},
   "source": [
    "**Handling missing values of \"year\"**  "
   ]
  },
  {
   "cell_type": "code",
   "execution_count": 409,
   "id": "a725c5f4",
   "metadata": {
    "scrolled": true
   },
   "outputs": [
    {
     "name": "stdout",
     "output_type": "stream",
     "text": [
      "El porcentaje de missing values of the variable 'year' is  0.17  %\n"
     ]
    }
   ],
   "source": [
    "per = vehicles_df1[vehicles_df1.year.isnull()].shape[0]*100/vehicles_df1.shape[0]\n",
    "print(\"El porcentaje de missing values of the variable 'year' is \", round(per,2), \" %\")"
   ]
  },
  {
   "cell_type": "code",
   "execution_count": 410,
   "id": "0ea2f20d",
   "metadata": {},
   "outputs": [
    {
     "data": {
      "text/plain": [
       "Text(0.5, 0, 'year')"
      ]
     },
     "execution_count": 410,
     "metadata": {},
     "output_type": "execute_result"
    },
    {
     "data": {
      "image/png": "[encoded data removed]",
      "text/plain": [
       "<Figure size 500x300 with 1 Axes>"
      ]
     },
     "metadata": {},
     "output_type": "display_data"
    }
   ],
   "source": [
    "plt.figure(figsize=(5,3))\n",
    "plt.title(\"Distribution of registries according to the year\")\n",
    "vehicles_df1.year.hist(bins=100)\n",
    "plt.ylabel(\"Counts\")\n",
    "plt.xlabel(\"year\")\n"
   ]
  },
  {
   "cell_type": "markdown",
   "id": "b80e5744",
   "metadata": {},
   "source": [
    "Due to the distribution of data clustering around a central value and the small proportion of missing values, utilizing the mode as an imputation strategy is appropriate."
   ]
  },
  {
   "cell_type": "code",
   "execution_count": 411,
   "id": "2ced250e",
   "metadata": {},
   "outputs": [],
   "source": [
    "mode_value = vehicles_df1['year'].mode()[0]  \n",
    "vehicles_df1['year'].fillna(mode_value, inplace=True)"
   ]
  },
  {
   "cell_type": "markdown",
   "id": "1daf3036",
   "metadata": {},
   "source": [
    "Number of remaining missing values"
   ]
  },
  {
   "cell_type": "code",
   "execution_count": 412,
   "id": "80476e7d",
   "metadata": {},
   "outputs": [
    {
     "data": {
      "text/plain": [
       "0"
      ]
     },
     "execution_count": 412,
     "metadata": {},
     "output_type": "execute_result"
    }
   ],
   "source": [
    "vehicles_df1.year.isnull().sum()"
   ]
  },
  {
   "cell_type": "markdown",
   "id": "7ea14bc3",
   "metadata": {},
   "source": [
    "**Handling missing values of \"transmission\"**  "
   ]
  },
  {
   "cell_type": "code",
   "execution_count": 413,
   "id": "923d8c7d",
   "metadata": {},
   "outputs": [
    {
     "name": "stdout",
     "output_type": "stream",
     "text": [
      "El porcentaje de missing values of the variable 'transmission' is  0.84  %\n"
     ]
    }
   ],
   "source": [
    "per = vehicles_df1[vehicles_df1.transmission.isnull()].shape[0]*100/vehicles_df1.shape[0]\n",
    "print(\"El porcentaje de missing values of the variable 'transmission' is \", round(per,2), \" %\")"
   ]
  },
  {
   "cell_type": "markdown",
   "id": "572076e5",
   "metadata": {},
   "source": [
    "The column \"transmission\" is cathegorical containing the following categories and distribution"
   ]
  },
  {
   "cell_type": "code",
   "execution_count": 414,
   "id": "13b68e1c",
   "metadata": {},
   "outputs": [
    {
     "data": {
      "text/plain": [
       "transmission\n",
       "automatic    0.878432\n",
       "manual       0.066547\n",
       "other        0.046649\n",
       "Name: count, dtype: float64"
      ]
     },
     "execution_count": 414,
     "metadata": {},
     "output_type": "execute_result"
    }
   ],
   "source": [
    "vehicles_df1.transmission.value_counts()/vehicles_df1.shape[0]"
   ]
  },
  {
   "cell_type": "markdown",
   "id": "12c82665",
   "metadata": {},
   "source": [
    "Given that approximately 87% of vehicles have automatic transmission, and considering the low occurrence of missing values, the automatic transmission will be used as the imputation value."
   ]
  },
  {
   "cell_type": "code",
   "execution_count": 415,
   "id": "cb661323",
   "metadata": {},
   "outputs": [],
   "source": [
    "mode_value = vehicles_df1['transmission'].mode()[0]  \n",
    "vehicles_df1['transmission'].fillna(mode_value, inplace=True)"
   ]
  },
  {
   "cell_type": "markdown",
   "id": "00b111ec",
   "metadata": {},
   "source": [
    "Number of remaining missing values"
   ]
  },
  {
   "cell_type": "code",
   "execution_count": 416,
   "id": "3e07d561",
   "metadata": {},
   "outputs": [
    {
     "data": {
      "text/plain": [
       "0"
      ]
     },
     "execution_count": 416,
     "metadata": {},
     "output_type": "execute_result"
    }
   ],
   "source": [
    "vehicles_df1.transmission.isnull().sum()"
   ]
  },
  {
   "cell_type": "markdown",
   "id": "14856d31",
   "metadata": {},
   "source": [
    "**Handling missing values of \"fuel\"**  "
   ]
  },
  {
   "cell_type": "code",
   "execution_count": 417,
   "id": "2ba0c50f",
   "metadata": {},
   "outputs": [
    {
     "name": "stdout",
     "output_type": "stream",
     "text": [
      "El porcentaje de missing values of the variable 'transmission' is  0.63  %\n"
     ]
    }
   ],
   "source": [
    "per = vehicles_df1[vehicles_df1.fuel.isnull()].shape[0]*100/vehicles_df1.shape[0]\n",
    "print(\"El porcentaje de missing values of the variable 'transmission' is \", round(per,2), \" %\")"
   ]
  },
  {
   "cell_type": "markdown",
   "id": "e801c372",
   "metadata": {},
   "source": [
    "The column \"transmission\" is cathegorical containing the following categories and distribution"
   ]
  },
  {
   "cell_type": "code",
   "execution_count": 418,
   "id": "5fa33d86",
   "metadata": {},
   "outputs": [
    {
     "data": {
      "text/plain": [
       "fuel\n",
       "gas         0.871033\n",
       "diesel      0.077256\n",
       "other       0.033488\n",
       "hybrid      0.009462\n",
       "electric    0.002453\n",
       "Name: count, dtype: float64"
      ]
     },
     "execution_count": 418,
     "metadata": {},
     "output_type": "execute_result"
    }
   ],
   "source": [
    "vehicles_df1.fuel.value_counts()/vehicles_df1.shape[0]"
   ]
  },
  {
   "cell_type": "markdown",
   "id": "56065e36",
   "metadata": {},
   "source": [
    "Given that approximately 87% of vehicles have gas fuel, and considering the low occurrence of missing values, the gas fuel will be used as the imputation value."
   ]
  },
  {
   "cell_type": "code",
   "execution_count": 419,
   "id": "cca46fe6",
   "metadata": {},
   "outputs": [],
   "source": [
    "mode_value = vehicles_df1['fuel'].mode()[0]  \n",
    "vehicles_df1['fuel'].fillna(mode_value, inplace=True)"
   ]
  },
  {
   "cell_type": "markdown",
   "id": "2d07fd55",
   "metadata": {},
   "source": [
    "Number of remaining missing values"
   ]
  },
  {
   "cell_type": "code",
   "execution_count": 420,
   "id": "c5d338c1",
   "metadata": {},
   "outputs": [
    {
     "data": {
      "text/plain": [
       "0"
      ]
     },
     "execution_count": 420,
     "metadata": {},
     "output_type": "execute_result"
    }
   ],
   "source": [
    "vehicles_df1.fuel.isnull().sum()"
   ]
  },
  {
   "cell_type": "markdown",
   "id": "0a59af51",
   "metadata": {},
   "source": [
    "**Handling outliers and missing values for the variable 'price'** <a name=\"handling_price\"></a>"
   ]
  },
  {
   "cell_type": "markdown",
   "id": "a1824211",
   "metadata": {},
   "source": [
    "There is no missing values"
   ]
  },
  {
   "cell_type": "markdown",
   "id": "16fe10ed",
   "metadata": {},
   "source": [
    "Statistics"
   ]
  },
  {
   "cell_type": "code",
   "execution_count": 421,
   "id": "19240db2",
   "metadata": {},
   "outputs": [
    {
     "data": {
      "text/plain": [
       "count    2.568100e+04\n",
       "mean     5.704890e+04\n",
       "std      6.966621e+06\n",
       "min      0.000000e+00\n",
       "25%      4.250000e+03\n",
       "50%      9.500000e+03\n",
       "75%      1.740000e+04\n",
       "max      1.116081e+09\n",
       "Name: price, dtype: float64"
      ]
     },
     "execution_count": 421,
     "metadata": {},
     "output_type": "execute_result"
    }
   ],
   "source": [
    "vehicles_df1.price.describe()"
   ]
  },
  {
   "cell_type": "markdown",
   "id": "a390dbf2",
   "metadata": {},
   "source": [
    "The dataset of car prices presents a wide range of values, with an average price of around 55,116. The standard deviation of approximately 6,795,834 indicates considerable variability, suggesting that prices are spread out from this average. While most cars are priced within a reasonable range, there are some outliers, as evidenced by the minimum price of 0,0  and the maximum price of approximately 1,116,081,000.  Additionally, the quartile analysis reveals that  three-quarters are priced below 17,900  providing further insights into the distribution of prices among the listed cars.\n",
    "\n",
    "On the other side, 25% of the values are below 4,250. "
   ]
  },
  {
   "cell_type": "markdown",
   "id": "5106e871",
   "metadata": {},
   "source": [
    "Distribution of car prices below the 25 percentil"
   ]
  },
  {
   "cell_type": "code",
   "execution_count": 422,
   "id": "61d1854c",
   "metadata": {
    "scrolled": false
   },
   "outputs": [
    {
     "data": {
      "image/png": "[encoded data removed]",
      "text/plain": [
       "<Figure size 400x200 with 1 Axes>"
      ]
     },
     "metadata": {},
     "output_type": "display_data"
    }
   ],
   "source": [
    "plt.figure(figsize=(4,2))\n",
    "plt.title(\"Distribution of car prices below 25 percentil\")\n",
    "vehicles_df1[vehicles_df1.price < 4250].price.hist(bins=50)\n",
    "plt.ylabel(\"Count\")\n",
    "plt.xlabel(\"price\")\n",
    "plt.show()"
   ]
  },
  {
   "cell_type": "markdown",
   "id": "f151f1a9",
   "metadata": {},
   "source": [
    "The legal minimum value for a car sale can vary significantly depending on local laws and regulations. In some jurisdictions, there may not be a specific legal minimum value for car sales, but there are laws governing \n",
    "fair and transparent transactions.For example, in some areas, there may be laws governing the\n",
    "sale of used cars to prevent predatory pricing or unfair practices. These laws might\n",
    "set a minimum price that dealerships or private sellers must adhere to when selling a vehicle.\n",
    "\n",
    "source: https://www.federalregister.gov/documents/2022/07/13/2022-14214/motor-vehicle-dealers-trade-regulation-rule"
   ]
  },
  {
   "cell_type": "markdown",
   "id": "30e80552",
   "metadata": {},
   "source": [
    "Percentage of registries without a price (=0 or nan)"
   ]
  },
  {
   "cell_type": "code",
   "execution_count": 423,
   "id": "e474b51f",
   "metadata": {},
   "outputs": [
    {
     "name": "stdout",
     "output_type": "stream",
     "text": [
      "8.496553872512752  %\n"
     ]
    }
   ],
   "source": [
    "print(vehicles_df1[(vehicles_df1.price == 0) | (vehicles_df1.price.isnull())].shape[0]*100/vehicles_df1.shape[0], \" %\")\n"
   ]
  },
  {
   "cell_type": "markdown",
   "id": "2e6917f0",
   "metadata": {},
   "source": [
    "Percentage of registries below 1,000 price, but not zero."
   ]
  },
  {
   "cell_type": "code",
   "execution_count": 424,
   "id": "90243145",
   "metadata": {},
   "outputs": [
    {
     "name": "stdout",
     "output_type": "stream",
     "text": [
      "2.7685876504030222  %\n"
     ]
    }
   ],
   "source": [
    "print(vehicles_df1[vehicles_df1.price < 1000].shape[0]*100/vehicles_df1.shape[0] - 8.49655, \" %\")"
   ]
  },
  {
   "cell_type": "markdown",
   "id": "f0ac8dac",
   "metadata": {},
   "source": [
    "The number of registries without price is very high corresponding to a 8.49% of the total amount. The general choice \n",
    "to avoid loss of information is to imput the variable, but some disadvantages can be drawn:\n",
    "\n",
    "1. **Bias Introduction**: Imputing missing values in the target variable using other variables or its distribution can introduce bias into the model, potentially leading to inaccurate predictions.\n",
    "\n",
    "2. **Overfitting**: especially if the imputation method is complex or relies heavily on other variables, reducing the model's generalization ability to unseen data.\n",
    "\n",
    "3. **Data Leakage**: the usage of information from other variables can result in data leakage. Data leakage occurs when information from the training data is inadvertently incorporated into the model, leading to inflated performance metrics during training but poor generalization to new data.\n",
    "\n",
    "4. **Reduced Model Interpretability**: because it becomes challenging to explain the relationship between the predictor variables and the target variable when the target variable's values are artificially modified.\n",
    "\n",
    "5. **Loss of Information**: If the missing values contain meaningful patterns or insights, imputing them may obscure important trends or relationships in the data.\n",
    "\n",
    "On the other side, there is not much real to have pricing below 1,000, which it will be assumed to be a minimum legal price for a car. \n"
   ]
  },
  {
   "cell_type": "markdown",
   "id": "1e117784",
   "metadata": {},
   "source": [
    "Therefore, in this particular case removing rows with missing prices may be preferable to imputing values \n",
    "because they represent a significant portion of the dataset and  imputation  may introduce bias or inaccuracies\n",
    "into the model\n",
    "\n",
    "\n",
    "\n"
   ]
  },
  {
   "cell_type": "code",
   "execution_count": 425,
   "id": "d43870f7",
   "metadata": {},
   "outputs": [],
   "source": [
    "vehicles_df2 = vehicles_df1[(vehicles_df1.price >= 1000)].copy()"
   ]
  },
  {
   "cell_type": "markdown",
   "id": "f072db4a",
   "metadata": {},
   "source": [
    "Removing outliers of variable price with the IQR method"
   ]
  },
  {
   "cell_type": "markdown",
   "id": "1fa75270",
   "metadata": {},
   "source": [
    "There are three reasons considered important for removing outliers in this case:\n",
    "\n",
    "1. To maintain model performance in order to improve the robustness and generalization ability of the predictive model.\n",
    "2. To maintain the assumption of normality: mMany statistical methods and machine learning algorithms assume that the target variable follows a normal distribution or at least does not contain extreme values that violate model assumptions. Removing outliers can help satisfy these assumptions and improve the validity of statistical tests and model interpretations."
   ]
  },
  {
   "cell_type": "code",
   "execution_count": 426,
   "id": "84653259",
   "metadata": {
    "scrolled": true
   },
   "outputs": [
    {
     "name": "stdout",
     "output_type": "stream",
     "text": [
      "lower bound  -13030.0\n",
      "upper bound  37578.0\n",
      "number of outliers  862  corresponding to a percentage of  3.782692645251887  %\n"
     ]
    }
   ],
   "source": [
    "Q1 = vehicles_df2[\"price\"].quantile(0.25)\n",
    "Q3 = vehicles_df2[\"price\"].quantile(0.75)\n",
    "IQR = Q3 - Q1\n",
    "\n",
    "# Define lower and upper bounds for outliers\n",
    "lower_bound = Q1 - 1.5 * IQR\n",
    "print(\"lower bound \", lower_bound)\n",
    "upper_bound = Q3 + 1.5 * IQR\n",
    "print(\"upper bound \", upper_bound)\n",
    "\n",
    "\n",
    "# Filter the DataFrame for outliers\n",
    "outliers = vehicles_df2[(vehicles_df2[\"price\"] < lower_bound) | (vehicles_df2[\"price\"] > upper_bound)]\n",
    "\n",
    "# Print or use the 'outliers' DataFrame to further analyze or handle the outliers\n",
    "print(\"number of outliers \", outliers.shape[0], \" corresponding to a percentage of \", outliers.shape[0]*100/vehicles_df2.shape[0], \" %\")"
   ]
  },
  {
   "cell_type": "markdown",
   "id": "9ed0b2c2",
   "metadata": {},
   "source": [
    "Filtering out outliers"
   ]
  },
  {
   "cell_type": "code",
   "execution_count": 427,
   "id": "88ac93db",
   "metadata": {},
   "outputs": [],
   "source": [
    "vehicles_df2 = vehicles_df2[(vehicles_df2[\"price\"] >= lower_bound) & (vehicles_df2[\"price\"] <= upper_bound)]"
   ]
  },
  {
   "cell_type": "markdown",
   "id": "911d0327",
   "metadata": {},
   "source": [
    "Validating the new distribution"
   ]
  },
  {
   "cell_type": "code",
   "execution_count": 428,
   "id": "bf845e8f",
   "metadata": {
    "scrolled": true
   },
   "outputs": [
    {
     "data": {
      "text/plain": [
       "count    21926.000000\n",
       "mean     12493.714357\n",
       "std       8362.596624\n",
       "min       1000.000000\n",
       "25%       5800.000000\n",
       "50%      10500.000000\n",
       "75%      17500.000000\n",
       "max      37550.000000\n",
       "Name: price, dtype: float64"
      ]
     },
     "execution_count": 428,
     "metadata": {},
     "output_type": "execute_result"
    }
   ],
   "source": [
    "vehicles_df2.price.describe()"
   ]
  },
  {
   "cell_type": "markdown",
   "id": "3a3a8be4",
   "metadata": {},
   "source": [
    "Visualization new distribution of prices"
   ]
  },
  {
   "cell_type": "code",
   "execution_count": 429,
   "id": "8320b68a",
   "metadata": {
    "scrolled": false
   },
   "outputs": [
    {
     "data": {
      "text/plain": [
       "Text(0.5, 0, 'Price')"
      ]
     },
     "execution_count": 429,
     "metadata": {},
     "output_type": "execute_result"
    },
    {
     "data": {
      "image/png": "[encoded data removed]",
      "text/plain": [
       "<Figure size 400x400 with 1 Axes>"
      ]
     },
     "metadata": {},
     "output_type": "display_data"
    }
   ],
   "source": [
    "plt.figure(figsize=(4,4))\n",
    "plt.title(\"Histogram of prices in the dataset after removing outliers\")\n",
    "vehicles_df2.price.hist(bins=50)\n",
    "plt.ylabel(\"Count\")\n",
    "plt.xlabel(\"Price\")"
   ]
  },
  {
   "cell_type": "markdown",
   "id": "8431f6f4",
   "metadata": {},
   "source": [
    "**Missing values with the variable \"cylinder\"**"
   ]
  },
  {
   "cell_type": "code",
   "execution_count": 430,
   "id": "dd24239c",
   "metadata": {
    "scrolled": true
   },
   "outputs": [
    {
     "data": {
      "text/plain": [
       "cylinders\n",
       "6 cylinders     4694\n",
       "4 cylinders     4219\n",
       "8 cylinders     3938\n",
       "5 cylinders      121\n",
       "10 cylinders      62\n",
       "3 cylinders       35\n",
       "other             34\n",
       "12 cylinders       7\n",
       "Name: count, dtype: int64"
      ]
     },
     "execution_count": 430,
     "metadata": {},
     "output_type": "execute_result"
    }
   ],
   "source": [
    "vehicles_df2.cylinders.value_counts()"
   ]
  },
  {
   "cell_type": "markdown",
   "id": "d2d07a91",
   "metadata": {},
   "source": [
    "**Imputation of cylinder labels based on the most common cylinder type per manufacturer**\n",
    "\n",
    "We will establish a mapping relationship between manufacturers and cylinder types, and then assign the most common cylinder type corresponding to each manufacturer to the cylinder field if it is NaN, based on the manufacturer assigned."
   ]
  },
  {
   "cell_type": "code",
   "execution_count": 431,
   "id": "92dbf4e6",
   "metadata": {
    "scrolled": true
   },
   "outputs": [
    {
     "name": "stdout",
     "output_type": "stream",
     "text": [
      "{'acura': '6 cylinders', 'alfa-romeo': '4 cylinders', 'audi': '4 cylinders', 'bmw': '6 cylinders', 'buick': '6 cylinders', 'cadillac': '8 cylinders', 'chevrolet': '8 cylinders', 'chrysler': '6 cylinders', 'datsun': '6 cylinders', 'dodge': '6 cylinders', 'fiat': '4 cylinders', 'ford': '8 cylinders', 'gmc': '8 cylinders', 'harley-davidson': '8 cylinders', 'honda': '4 cylinders', 'hyundai': '4 cylinders', 'infiniti': '6 cylinders', 'jaguar': '8 cylinders', 'jeep': '6 cylinders', 'kia': '4 cylinders', 'land rover': '8 cylinders', 'lexus': '6 cylinders', 'lincoln': '6 cylinders', 'mazda': '4 cylinders', 'mercedes-benz': '6 cylinders', 'mercury': '8 cylinders', 'mini': '4 cylinders', 'mitsubishi': '4 cylinders', 'nissan': '4 cylinders', 'pontiac': '6 cylinders', 'porche': '8 cylinders', 'ram': '8 cylinders', 'rover': '8 cylinders', 'saturn': '6 cylinders', 'subaru': '4 cylinders', 'toyota': '4 cylinders', 'volkswagen': '4 cylinders', 'volvo': '5 cylinders'}\n"
     ]
    }
   ],
   "source": [
    "# Grouping by manufacturer and cylinders. Count the number of registries\n",
    "df102 = vehicles_df2.groupby([\"manufacturer\",\"cylinders\"])[\"state\"].count().reset_index()\n",
    "\n",
    "# Group by manufaturer and extract the maximum value of the subgroup\n",
    "max_values = df102.groupby([\"manufacturer\"])[\"state\"].transform(\"max\")\n",
    "\n",
    "# Filter the data according to the max values\n",
    "result = df102[df102['state'] == max_values]\n",
    "\n",
    "# Build a dictionary containing manufacturer and cylinders.\n",
    "manufacturer_dict = result.set_index('manufacturer')['cylinders'].to_dict()\n",
    "\n",
    "print(manufacturer_dict)"
   ]
  },
  {
   "cell_type": "markdown",
   "id": "d7bd456d",
   "metadata": {},
   "source": [
    "To evoid conflict with nan values, convert them to empty strings"
   ]
  },
  {
   "cell_type": "code",
   "execution_count": 432,
   "id": "ad65079b",
   "metadata": {},
   "outputs": [],
   "source": [
    "vehicles_df2.cylinders.fillna(\"\",inplace=True)"
   ]
  },
  {
   "cell_type": "markdown",
   "id": "11424af8",
   "metadata": {},
   "source": [
    "Function which asigns cylinder type according to the manufacturar"
   ]
  },
  {
   "cell_type": "code",
   "execution_count": 433,
   "id": "c7903b72",
   "metadata": {},
   "outputs": [],
   "source": [
    "def asigncylinder(dict_,x, reference, target):\n",
    "    \n",
    "    #dict_ = dictionary : mapping between manufacturer and cylinder type\n",
    "    #x     : current row of the dataset.\n",
    "    #reference : reference variable as guide\n",
    "    #target  : target variable which will be imputed.\n",
    "    \n",
    "    refvar = x[reference]\n",
    "    targetvar = x[target]\n",
    "    \n",
    "    # if cylinder field is empty\n",
    "    if targetvar == \"\":\n",
    "        \n",
    "        if refvar in dict_.keys():\n",
    "            return dict_[refvar]\n",
    "        else:\n",
    "            #if referene is not defined in dictionary, classifies it as \"NaN\"\n",
    "            return pd.NA\n",
    "    else:\n",
    "    # if not, return the current value\n",
    "        return targetvar"
   ]
  },
  {
   "cell_type": "markdown",
   "id": "df39c419",
   "metadata": {},
   "source": [
    "Imputation of missing value in column \"cylinders\""
   ]
  },
  {
   "cell_type": "code",
   "execution_count": 434,
   "id": "3a5962b1",
   "metadata": {
    "scrolled": false
   },
   "outputs": [],
   "source": [
    "vehicles_df3 = vehicles_df2.copy()\n",
    "vehicles_df3[\"cylinders\"] = vehicles_df3.apply(lambda x: asigncylinder(manufacturer_dict,x,\"manufacturer\",\"cylinders\"),axis=1)"
   ]
  },
  {
   "cell_type": "markdown",
   "id": "1c79d740",
   "metadata": {},
   "source": [
    "Number of fields which could not be imputed"
   ]
  },
  {
   "cell_type": "code",
   "execution_count": 435,
   "id": "7298bd22",
   "metadata": {},
   "outputs": [
    {
     "data": {
      "text/plain": [
       "322"
      ]
     },
     "execution_count": 435,
     "metadata": {},
     "output_type": "execute_result"
    }
   ],
   "source": [
    "vehicles_df3.cylinders.isnull().sum()"
   ]
  },
  {
   "cell_type": "markdown",
   "id": "7a5f0bdf",
   "metadata": {},
   "source": [
    "Using the mode to complete imputation"
   ]
  },
  {
   "cell_type": "code",
   "execution_count": 436,
   "id": "7ef438e2",
   "metadata": {},
   "outputs": [],
   "source": [
    "mode_value = vehicles_df3['cylinders'].mode()[0]  \n",
    "vehicles_df3['cylinders'].fillna(mode_value, inplace=True)"
   ]
  },
  {
   "cell_type": "markdown",
   "id": "8f1629a6",
   "metadata": {},
   "source": [
    "Number of remaining missing values"
   ]
  },
  {
   "cell_type": "code",
   "execution_count": 437,
   "id": "1cbd1708",
   "metadata": {},
   "outputs": [
    {
     "data": {
      "text/plain": [
       "0"
      ]
     },
     "execution_count": 437,
     "metadata": {},
     "output_type": "execute_result"
    }
   ],
   "source": [
    "vehicles_df3.cylinders.isnull().sum()"
   ]
  },
  {
   "cell_type": "markdown",
   "id": "e714bfdc",
   "metadata": {},
   "source": [
    "**Handling of missing values in column \"type\"**"
   ]
  },
  {
   "cell_type": "code",
   "execution_count": 438,
   "id": "a079a68d",
   "metadata": {
    "scrolled": true
   },
   "outputs": [
    {
     "data": {
      "text/plain": [
       "type\n",
       "sedan          4110\n",
       "SUV            3773\n",
       "pickup         2170\n",
       "truck          1763\n",
       "coupe           944\n",
       "other           751\n",
       "hatchback       712\n",
       "wagon           500\n",
       "van             466\n",
       "convertible     408\n",
       "mini-van        281\n",
       "offroad          40\n",
       "bus              22\n",
       "Name: count, dtype: int64"
      ]
     },
     "execution_count": 438,
     "metadata": {},
     "output_type": "execute_result"
    }
   ],
   "source": [
    "vehicles_df3.type.value_counts()"
   ]
  },
  {
   "cell_type": "markdown",
   "id": "031288bb",
   "metadata": {},
   "source": [
    "**Imputation of type labels based on the most common type per manufacturer**\n",
    "\n",
    "A mapping relationship will be established between manufacturers and types, and then assign the most common type corresponding to each manufacturer to the type field if it is NaN, based on the manufacturer assigned."
   ]
  },
  {
   "cell_type": "code",
   "execution_count": 439,
   "id": "9d1b0059",
   "metadata": {},
   "outputs": [
    {
     "name": "stdout",
     "output_type": "stream",
     "text": [
      "{'acura': 'sedan', 'alfa-romeo': 'convertible', 'audi': 'sedan', 'bmw': 'sedan', 'buick': 'sedan', 'cadillac': 'sedan', 'chevrolet': 'pickup', 'chrysler': 'sedan', 'datsun': 'other', 'dodge': 'sedan', 'fiat': 'hatchback', 'ford': 'pickup', 'gmc': 'SUV', 'harley-davidson': 'pickup', 'honda': 'sedan', 'hyundai': 'sedan', 'infiniti': 'sedan', 'jaguar': 'sedan', 'jeep': 'SUV', 'kia': 'sedan', 'land rover': 'SUV', 'lexus': 'sedan', 'lincoln': 'sedan', 'mazda': 'sedan', 'mercedes-benz': 'sedan', 'mercury': 'sedan', 'mini': 'hatchback', 'mitsubishi': 'sedan', 'nissan': 'sedan', 'pontiac': 'sedan', 'porche': 'coupe', 'ram': 'pickup', 'rover': 'SUV', 'saturn': 'sedan', 'subaru': 'wagon', 'tesla': 'sedan', 'toyota': 'sedan', 'volkswagen': 'sedan', 'volvo': 'sedan'}\n"
     ]
    }
   ],
   "source": [
    "# Grouping by manufacturer and cylinders. Count the number of registries\n",
    "df102 = vehicles_df3.groupby([\"manufacturer\",\"type\"])[\"state\"].count().reset_index()\n",
    "\n",
    "# Group by manufaturer and extract the maximum value of the subgroup\n",
    "max_values = df102.groupby([\"manufacturer\"])[\"state\"].transform(\"max\")\n",
    "\n",
    "# Filter the data according to the max values\n",
    "result = df102[df102['state'] == max_values]\n",
    "\n",
    "# Build a dictionary containing manufacturer and cylinders.\n",
    "manufacturer_dict = result.set_index('manufacturer')['type'].to_dict()\n",
    "\n",
    "print(manufacturer_dict)\n"
   ]
  },
  {
   "cell_type": "markdown",
   "id": "fe9da49d",
   "metadata": {},
   "source": [
    "To evoid conflict with nan values, convert them to empty strings"
   ]
  },
  {
   "cell_type": "code",
   "execution_count": 440,
   "id": "d2ac6b25",
   "metadata": {},
   "outputs": [],
   "source": [
    "vehicles_df3.type.fillna(\"\",inplace=True)"
   ]
  },
  {
   "cell_type": "markdown",
   "id": "8fd8c698",
   "metadata": {},
   "source": [
    "Imputation of missing value in column \"type\""
   ]
  },
  {
   "cell_type": "code",
   "execution_count": 441,
   "id": "b2af2659",
   "metadata": {},
   "outputs": [],
   "source": [
    "vehicles_df4 = vehicles_df3.copy()\n",
    "vehicles_df4[\"type\"] = vehicles_df4.apply(lambda x: asigncylinder(manufacturer_dict,x,\"manufacturer\",\"type\"),axis=1)"
   ]
  },
  {
   "cell_type": "code",
   "execution_count": 442,
   "id": "3664210f",
   "metadata": {},
   "outputs": [
    {
     "name": "stdout",
     "output_type": "stream",
     "text": [
      "Number of remaining missing values  318\n"
     ]
    }
   ],
   "source": [
    "missval = vehicles_df4.type.isnull().sum()\n",
    "print(\"Number of remaining missing values \", missval)"
   ]
  },
  {
   "cell_type": "markdown",
   "id": "aa6c975e",
   "metadata": {},
   "source": [
    "Using the mode to complete imputation"
   ]
  },
  {
   "cell_type": "code",
   "execution_count": 443,
   "id": "a09f18d3",
   "metadata": {},
   "outputs": [],
   "source": [
    "mode_value = vehicles_df4['type'].mode()[0]  \n",
    "vehicles_df4['type'].fillna(mode_value, inplace=True)"
   ]
  },
  {
   "cell_type": "markdown",
   "id": "dccf0124",
   "metadata": {},
   "source": [
    "**Handling of missing values in column \"drive\"**"
   ]
  },
  {
   "cell_type": "code",
   "execution_count": 444,
   "id": "7bf01dd4",
   "metadata": {},
   "outputs": [
    {
     "data": {
      "text/plain": [
       "drive\n",
       "4wd    6268\n",
       "fwd    5821\n",
       "rwd    3301\n",
       "Name: count, dtype: int64"
      ]
     },
     "execution_count": 444,
     "metadata": {},
     "output_type": "execute_result"
    }
   ],
   "source": [
    "vehicles_df4.drive.value_counts()"
   ]
  },
  {
   "cell_type": "markdown",
   "id": "e78bd29e",
   "metadata": {},
   "source": [
    "**Imputation of type labels based on the most common drive per manufacturer**\n",
    "\n",
    "A mapping relationship will be established between manufacturers and drive, and then assign the most common drive corresponding to each manufacturer to the drive field if it is NaN, based on the manufacturer assigned."
   ]
  },
  {
   "cell_type": "code",
   "execution_count": 445,
   "id": "298186ed",
   "metadata": {},
   "outputs": [
    {
     "name": "stdout",
     "output_type": "stream",
     "text": [
      "{'acura': 'fwd', 'alfa-romeo': 'rwd', 'audi': '4wd', 'bmw': 'rwd', 'buick': 'fwd', 'cadillac': 'fwd', 'chevrolet': '4wd', 'chrysler': 'fwd', 'datsun': 'rwd', 'dodge': 'fwd', 'fiat': 'fwd', 'ford': '4wd', 'gmc': '4wd', 'honda': 'fwd', 'hyundai': 'fwd', 'infiniti': 'rwd', 'jaguar': 'rwd', 'jeep': '4wd', 'kia': 'fwd', 'land rover': '4wd', 'lexus': 'fwd', 'lincoln': 'fwd', 'mazda': 'fwd', 'mercedes-benz': 'rwd', 'mercury': 'rwd', 'mini': 'fwd', 'mitsubishi': 'fwd', 'nissan': 'fwd', 'pontiac': 'fwd', 'porche': '4wd', 'ram': '4wd', 'rover': '4wd', 'saturn': 'fwd', 'subaru': '4wd', 'tesla': 'rwd', 'toyota': 'fwd', 'volkswagen': 'fwd', 'volvo': 'fwd'}\n"
     ]
    }
   ],
   "source": [
    "# Grouping by manufacturer and cylinders. Count the number of registries\n",
    "df102 = vehicles_df4.groupby([\"manufacturer\",\"drive\"])[\"state\"].count().reset_index()\n",
    "\n",
    "# Group by manufaturer and extract the maximum value of the subgroup\n",
    "max_values = df102.groupby([\"manufacturer\"])[\"state\"].transform(\"max\")\n",
    "\n",
    "# Filter the data according to the max values\n",
    "result = df102[df102['state'] == max_values]\n",
    "\n",
    "# Build a dictionary containing manufacturer and cylinders.\n",
    "manufacturer_dict = result.set_index('manufacturer')['drive'].to_dict()\n",
    "\n",
    "print(manufacturer_dict)\n",
    "#df102.head(20)"
   ]
  },
  {
   "cell_type": "markdown",
   "id": "90db0ff7",
   "metadata": {},
   "source": [
    "To evoid conflict with nan values, convert them to empty strings"
   ]
  },
  {
   "cell_type": "code",
   "execution_count": 446,
   "id": "e0dc9257",
   "metadata": {},
   "outputs": [],
   "source": [
    "vehicles_df4.drive.fillna(\"\",inplace=True)"
   ]
  },
  {
   "cell_type": "markdown",
   "id": "d2598ea6",
   "metadata": {},
   "source": [
    "Imputation of missing value in column \"drive\""
   ]
  },
  {
   "cell_type": "code",
   "execution_count": 447,
   "id": "70a94ea2",
   "metadata": {},
   "outputs": [],
   "source": [
    "vehicles_df5 = vehicles_df4.copy()\n",
    "vehicles_df5[\"drive\"] = vehicles_df5.apply(lambda x: asigncylinder(manufacturer_dict,x,\"manufacturer\",\"drive\"),axis=1)"
   ]
  },
  {
   "cell_type": "markdown",
   "id": "bf0c8041",
   "metadata": {},
   "source": [
    "number of missing values which could not be imputed"
   ]
  },
  {
   "cell_type": "code",
   "execution_count": 448,
   "id": "45c7b262",
   "metadata": {},
   "outputs": [
    {
     "data": {
      "text/plain": [
       "347"
      ]
     },
     "execution_count": 448,
     "metadata": {},
     "output_type": "execute_result"
    }
   ],
   "source": [
    "vehicles_df5.drive.isnull().sum()"
   ]
  },
  {
   "cell_type": "markdown",
   "id": "b06c6d7c",
   "metadata": {},
   "source": [
    "Using the mode to complate imputation"
   ]
  },
  {
   "cell_type": "code",
   "execution_count": 449,
   "id": "c20e625e",
   "metadata": {},
   "outputs": [],
   "source": [
    "mode_value = vehicles_df5['drive'].mode()[0]  \n",
    "vehicles_df5['drive'].fillna(mode_value, inplace=True)"
   ]
  },
  {
   "cell_type": "code",
   "execution_count": 450,
   "id": "6e925f3f",
   "metadata": {},
   "outputs": [
    {
     "data": {
      "text/plain": [
       "0"
      ]
     },
     "execution_count": 450,
     "metadata": {},
     "output_type": "execute_result"
    }
   ],
   "source": [
    "vehicles_df5.drive.isnull().sum()"
   ]
  },
  {
   "cell_type": "markdown",
   "id": "7adcb1f2",
   "metadata": {},
   "source": [
    "**Handling missing values for the variable odometer**  <a name=\"handling_odometer\"></a>"
   ]
  },
  {
   "cell_type": "markdown",
   "id": "659b81e6",
   "metadata": {},
   "source": [
    "Statistics of the variable \"odometer\""
   ]
  },
  {
   "cell_type": "code",
   "execution_count": 451,
   "id": "469ba89e",
   "metadata": {},
   "outputs": [
    {
     "data": {
      "text/plain": [
       "count    1.786900e+04\n",
       "mean     1.039202e+05\n",
       "std      1.177253e+05\n",
       "min      0.000000e+00\n",
       "25%      5.200000e+04\n",
       "50%      9.630100e+04\n",
       "75%      1.400000e+05\n",
       "max      9.999999e+06\n",
       "Name: odometer, dtype: float64"
      ]
     },
     "execution_count": 451,
     "metadata": {},
     "output_type": "execute_result"
    }
   ],
   "source": [
    "vehicles_df5.odometer.describe()"
   ]
  },
  {
   "cell_type": "markdown",
   "id": "7164249b",
   "metadata": {},
   "source": [
    "According to distribution of the variable \"odometer\", it seems that the data may be positively skewed, \n",
    "given that the mean is larger than the median and is influenced by outliers. "
   ]
  },
  {
   "cell_type": "markdown",
   "id": "c57b905c",
   "metadata": {},
   "source": [
    "Visualization of the distribution of the variable \"odometer\""
   ]
  },
  {
   "cell_type": "code",
   "execution_count": 452,
   "id": "7a55b164",
   "metadata": {
    "scrolled": false
   },
   "outputs": [
    {
     "data": {
      "text/plain": [
       "Text(0.5, 1.0, \"Histrogram based on the variable 'odometer'\")"
      ]
     },
     "execution_count": 452,
     "metadata": {},
     "output_type": "execute_result"
    },
    {
     "data": {
      "image/png": "[encoded data removed]",
      "text/plain": [
       "<Figure size 1000x300 with 1 Axes>"
      ]
     },
     "metadata": {},
     "output_type": "display_data"
    }
   ],
   "source": [
    "plt.figure(figsize=(10,3))\n",
    "vehicles_df5.odometer.hist(bins=500)\n",
    "plt.ylabel(\"Count\")\n",
    "plt.xlabel(\"odometer\")\n",
    "plt.title(\"Histrogram based on the variable 'odometer'\")"
   ]
  },
  {
   "cell_type": "markdown",
   "id": "b80fb179",
   "metadata": {},
   "source": [
    "**Imputation with the median**\n",
    "\n",
    "It is advisable in situations where the data is skewed or contains outliers, making the mean less representative of the central tendency. The median, being the middle value when the data is sorted, is robust to outliers and provides a more accurate estimate of the central tendency in such cases. "
   ]
  },
  {
   "cell_type": "code",
   "execution_count": 453,
   "id": "599e3c9d",
   "metadata": {},
   "outputs": [],
   "source": [
    "vehicles_df5.odometer.fillna(vehicles_df5.odometer.median(),inplace=True)"
   ]
  },
  {
   "cell_type": "markdown",
   "id": "9ae56084",
   "metadata": {},
   "source": [
    "**Handling missing values for the variable paint_color**"
   ]
  },
  {
   "cell_type": "code",
   "execution_count": 454,
   "id": "d9450bca",
   "metadata": {},
   "outputs": [],
   "source": [
    "vehicles_df6 = vehicles_df5.copy()"
   ]
  },
  {
   "cell_type": "code",
   "execution_count": 455,
   "id": "94f132bd",
   "metadata": {},
   "outputs": [
    {
     "data": {
      "text/plain": [
       "paint_color\n",
       "white     3978\n",
       "black     2872\n",
       "silver    2266\n",
       "red       1491\n",
       "grey      1489\n",
       "blue      1484\n",
       "green      406\n",
       "custom     360\n",
       "brown      343\n",
       "yellow     110\n",
       "orange      93\n",
       "purple      31\n",
       "Name: count, dtype: int64"
      ]
     },
     "execution_count": 455,
     "metadata": {},
     "output_type": "execute_result"
    }
   ],
   "source": [
    "vehicles_df6.paint_color.value_counts()"
   ]
  },
  {
   "cell_type": "markdown",
   "id": "edc26bca",
   "metadata": {},
   "source": [
    "**Imputation of type labels based on the most common paint color per manufacturer**\n",
    "\n",
    "A mapping relationship will be established between manufacturers and the color of the car, and then assign\n",
    "the most common color of the car corresponding to each manufacturer to the paint_color field if it is NaN, \n",
    "based on the manufacturer assigned."
   ]
  },
  {
   "cell_type": "code",
   "execution_count": 456,
   "id": "3e0ecb98",
   "metadata": {},
   "outputs": [
    {
     "name": "stdout",
     "output_type": "stream",
     "text": [
      "{'acura': 'black', 'alfa-romeo': 'red', 'audi': 'black', 'bmw': 'black', 'buick': 'white', 'cadillac': 'black', 'chevrolet': 'white', 'chrysler': 'white', 'datsun': 'yellow', 'dodge': 'white', 'fiat': 'black', 'ford': 'white', 'gmc': 'white', 'harley-davidson': 'black', 'honda': 'silver', 'hyundai': 'silver', 'infiniti': 'black', 'jaguar': 'black', 'jeep': 'black', 'kia': 'white', 'land rover': 'green', 'lexus': 'silver', 'lincoln': 'white', 'mazda': 'black', 'mercedes-benz': 'black', 'mercury': 'white', 'mini': 'grey', 'mitsubishi': 'white', 'nissan': 'white', 'pontiac': 'black', 'porche': 'white', 'ram': 'white', 'rover': 'black', 'saturn': 'silver', 'subaru': 'blue', 'tesla': 'blue', 'toyota': 'white', 'volkswagen': 'black', 'volvo': 'white'}\n"
     ]
    }
   ],
   "source": [
    "# Grouping by manufacturer and cylinders. Count the number of registries\n",
    "df102 = vehicles_df6.groupby([\"manufacturer\",\"paint_color\"])[\"state\"].count().reset_index()\n",
    "\n",
    "# Group by manufaturer and extract the maximum value of the subgroup\n",
    "max_values = df102.groupby([\"manufacturer\"])[\"state\"].transform(\"max\")\n",
    "\n",
    "# Filter the data according to the max values\n",
    "result = df102[df102['state'] == max_values]\n",
    "\n",
    "# Build a dictionary containing manufacturer and cylinders.\n",
    "manufacturer_dict = result.set_index('manufacturer')['paint_color'].to_dict()\n",
    "\n",
    "print(manufacturer_dict)\n",
    "#df102.head(20)"
   ]
  },
  {
   "cell_type": "markdown",
   "id": "39394fa9",
   "metadata": {},
   "source": [
    "To evoid conflict with nan values, convert them to empty strings"
   ]
  },
  {
   "cell_type": "code",
   "execution_count": 457,
   "id": "1d31742e",
   "metadata": {},
   "outputs": [],
   "source": [
    "vehicles_df6.paint_color.fillna(\"\",inplace=True)"
   ]
  },
  {
   "cell_type": "markdown",
   "id": "a4765683",
   "metadata": {},
   "source": [
    "Imputation of missing value in column \"paint_color\""
   ]
  },
  {
   "cell_type": "code",
   "execution_count": 458,
   "id": "a50c2fe5",
   "metadata": {},
   "outputs": [],
   "source": [
    "vehicles_df6[\"paint_color\"] = vehicles_df6.apply(lambda x: asigncylinder(manufacturer_dict,x,\"manufacturer\",\"paint_color\"),axis=1)"
   ]
  },
  {
   "cell_type": "markdown",
   "id": "22481f0d",
   "metadata": {},
   "source": [
    "Number of missing values which could not be imputed"
   ]
  },
  {
   "cell_type": "code",
   "execution_count": 459,
   "id": "88d51432",
   "metadata": {},
   "outputs": [
    {
     "data": {
      "text/plain": [
       "323"
      ]
     },
     "execution_count": 459,
     "metadata": {},
     "output_type": "execute_result"
    }
   ],
   "source": [
    "vehicles_df6.paint_color.isnull().sum()"
   ]
  },
  {
   "cell_type": "markdown",
   "id": "727f4653",
   "metadata": {},
   "source": [
    "Using the mode to complete imputation"
   ]
  },
  {
   "cell_type": "code",
   "execution_count": 460,
   "id": "8e57fddb",
   "metadata": {},
   "outputs": [],
   "source": [
    "mode_value = vehicles_df6['paint_color'].mode()[0]  \n",
    "vehicles_df6['paint_color'].fillna(mode_value, inplace=True)"
   ]
  },
  {
   "cell_type": "code",
   "execution_count": 461,
   "id": "b52ad90d",
   "metadata": {},
   "outputs": [
    {
     "data": {
      "text/plain": [
       "0"
      ]
     },
     "execution_count": 461,
     "metadata": {},
     "output_type": "execute_result"
    }
   ],
   "source": [
    "vehicles_df6.paint_color.isnull().sum()"
   ]
  },
  {
   "cell_type": "markdown",
   "id": "dc7ae5ce",
   "metadata": {},
   "source": [
    "**Handling missing values for the variable condition** <a name=\"handling_condition\"></a>"
   ]
  },
  {
   "cell_type": "code",
   "execution_count": 462,
   "id": "ab44fc98",
   "metadata": {},
   "outputs": [],
   "source": [
    "vehicles_df7 = vehicles_df6.copy()"
   ]
  },
  {
   "cell_type": "code",
   "execution_count": 463,
   "id": "ebde1413",
   "metadata": {},
   "outputs": [
    {
     "name": "stdout",
     "output_type": "stream",
     "text": [
      "missing value percentage  40.226215451974824  %\n"
     ]
    }
   ],
   "source": [
    "print(\"missing value percentage \", vehicles_df7.condition.isnull().sum()*100/vehicles_df7.shape[0], \" %\")"
   ]
  },
  {
   "cell_type": "markdown",
   "id": "89cc1474",
   "metadata": {},
   "source": [
    "Distribution of the categories belonging to the variable \"condition\""
   ]
  },
  {
   "cell_type": "code",
   "execution_count": 464,
   "id": "f576dae7",
   "metadata": {},
   "outputs": [
    {
     "data": {
      "text/plain": [
       "condition\n",
       "excellent    6138\n",
       "good         5276\n",
       "like new     1280\n",
       "fair          345\n",
       "new            37\n",
       "salvage        30\n",
       "Name: count, dtype: int64"
      ]
     },
     "execution_count": 464,
     "metadata": {},
     "output_type": "execute_result"
    }
   ],
   "source": [
    "vehicles_df7.condition.value_counts()"
   ]
  },
  {
   "cell_type": "markdown",
   "id": "0a708a33",
   "metadata": {},
   "source": [
    "**Relationship among different categories**\n",
    "\n",
    "While \"excellent,\" \"good,\" and \"like new\" all indicate a certain level of quality, they differ in the degree of wear and tear they suggest. \"Excellent\" implies top-tier condition, \"good\" suggests acceptable condition with some signs of use, and \"like new\" emphasizes a premium quality comparable to a brand-new vehicle.\n",
    "\n",
    "Therefore, to assign values to missing data, the categories will be grouped as follows:\n",
    "\n",
    "1. \"Excellent\" and \"good\" as \"good condition\" (most frequent categorie)\n",
    "2. \"Like new\" and \"new\" as \"like new or new\"\n",
    "3. \"Fair\"\n",
    "4. \"Salvage\""
   ]
  },
  {
   "cell_type": "markdown",
   "id": "b24ce33c",
   "metadata": {},
   "source": [
    "Imputation with the mode"
   ]
  },
  {
   "cell_type": "code",
   "execution_count": 465,
   "id": "051bba49",
   "metadata": {},
   "outputs": [],
   "source": [
    "vehicles_df7.condition.fillna(\" \",inplace=True)"
   ]
  },
  {
   "cell_type": "code",
   "execution_count": 466,
   "id": "170ae2d9",
   "metadata": {},
   "outputs": [],
   "source": [
    "condition_dict = dict()\n",
    "condition_dict[\"excellent\"] = \"Good condition\"\n",
    "condition_dict[\"good\"] = \"Good condition\"\n",
    "condition_dict[\"like new\"] = \"like new or new\"\n",
    "condition_dict[\"new\"] = \"like new or new\"\n",
    "condition_dict[\"fair\"] = \"fair\"\n",
    "condition_dict[\"salvage\"] = \"salvage\"\n",
    "condition_dict[\" \"] = \"Good condition\"\n",
    "\n",
    "vehicles_df7[\"condition\"] = vehicles_df7.condition.apply(lambda x: condition_dict[x])"
   ]
  },
  {
   "cell_type": "markdown",
   "id": "09282e23",
   "metadata": {},
   "source": [
    "New distribution"
   ]
  },
  {
   "cell_type": "code",
   "execution_count": 467,
   "id": "e5cd07e9",
   "metadata": {
    "scrolled": true
   },
   "outputs": [
    {
     "data": {
      "text/plain": [
       "condition\n",
       "Good condition     20234\n",
       "like new or new     1317\n",
       "fair                 345\n",
       "salvage               30\n",
       "Name: count, dtype: int64"
      ]
     },
     "execution_count": 467,
     "metadata": {},
     "output_type": "execute_result"
    }
   ],
   "source": [
    "vehicles_df7.condition.value_counts()"
   ]
  },
  {
   "cell_type": "markdown",
   "id": "04d8a48a",
   "metadata": {},
   "source": [
    "**Handling missing values of the column \"manufacturer\"**"
   ]
  },
  {
   "cell_type": "code",
   "execution_count": 468,
   "id": "96dac311",
   "metadata": {},
   "outputs": [
    {
     "data": {
      "image/png": "[encoded data removed]",
      "text/plain": [
       "<Figure size 1000x300 with 1 Axes>"
      ]
     },
     "metadata": {},
     "output_type": "display_data"
    }
   ],
   "source": [
    "vehicles_df8 = vehicles_df7.copy()\n",
    "plt.figure(figsize=(10,3))\n",
    "vehicles_df8.manufacturer.value_counts().plot(kind=\"bar\")\n",
    "plt.title(\"Distribution of manufacturer\")\n",
    "plt.ylabel(\"Counts\")\n",
    "plt.xlabel(\"Manufacturer\")\n",
    "plt.show()"
   ]
  },
  {
   "cell_type": "markdown",
   "id": "a6190773",
   "metadata": {},
   "source": [
    "Ford is the Most Common Manufacturer with 4048 vehicles listed. This indicates that Ford vehicles are popular among consumers or that there is a larger variety of Ford models available compared to other manufacturers."
   ]
  },
  {
   "cell_type": "markdown",
   "id": "3344bc37",
   "metadata": {},
   "source": [
    "Imputation of missing values using the mode"
   ]
  },
  {
   "cell_type": "code",
   "execution_count": 469,
   "id": "a57ef886",
   "metadata": {},
   "outputs": [],
   "source": [
    "mode_value = vehicles_df8['manufacturer'].mode()[0]  \n",
    "vehicles_df8['manufacturer'].fillna(mode_value, inplace=True)"
   ]
  },
  {
   "cell_type": "code",
   "execution_count": 470,
   "id": "0511ed7d",
   "metadata": {},
   "outputs": [
    {
     "data": {
      "text/plain": [
       "price             0\n",
       "year              0\n",
       "manufacturer      0\n",
       "model           311\n",
       "condition         0\n",
       "cylinders         0\n",
       "fuel              0\n",
       "odometer          0\n",
       "title_status      0\n",
       "transmission      0\n",
       "drive             0\n",
       "type              0\n",
       "paint_color       0\n",
       "state             0\n",
       "dtype: int64"
      ]
     },
     "execution_count": 470,
     "metadata": {},
     "output_type": "execute_result"
    }
   ],
   "source": [
    "vehicles_df8.isnull().sum()"
   ]
  },
  {
   "cell_type": "markdown",
   "id": "8c3e865a",
   "metadata": {},
   "source": [
    "**Handling of missing values for the variable \"model\"**"
   ]
  },
  {
   "cell_type": "code",
   "execution_count": 471,
   "id": "41509d84",
   "metadata": {},
   "outputs": [],
   "source": [
    "vehicles_df9 = vehicles_df8.copy()"
   ]
  },
  {
   "cell_type": "markdown",
   "id": "ac7ff7ea",
   "metadata": {},
   "source": [
    "**Imputation of type labels based on the most common model per manufacturer**\n",
    "\n",
    "A mapping relationship will be established between manufacturers and the model of the car, and then assign\n",
    "the most common model of the car corresponding to each manufacturer to the model field if it is NaN, \n",
    "based on the manufacturer assigned."
   ]
  },
  {
   "cell_type": "code",
   "execution_count": 472,
   "id": "9ba2c429",
   "metadata": {},
   "outputs": [
    {
     "name": "stdout",
     "output_type": "stream",
     "text": [
      "{'acura': 'mdx', 'alfa-romeo': 'romeo stelvio', 'audi': 'a4', 'bmw': 'x5', 'buick': 'enclave', 'cadillac': 'escalade', 'chevrolet': 'silverado 1500', 'chrysler': '300', 'datsun': '260z', 'dodge': 'grand caravan', 'fiat': '500', 'ford': 'f-150', 'gmc': 'sierra 1500', 'harley-davidson': 'xl1200x sportster forty-eight', 'honda': 'civic', 'hyundai': 'sonata', 'infiniti': 'g37', 'jaguar': 'xf', 'jeep': 'wrangler', 'kia': 'soul', 'land rover': 'freelander', 'lexus': 'rx 350', 'lincoln': 'mkx', 'mazda': '3', 'mercedes-benz': 'c-class', 'mercury': 'grand marquis', 'mini': 'cooper', 'mitsubishi': 'outlander', 'nissan': 'altima', 'pontiac': 'grand prix', 'porche': 'cayenne', 'ram': '1500', 'rover': 'sport', 'saturn': 'vue', 'subaru': 'outback', 'tesla': 'model s', 'toyota': 'camry', 'volkswagen': 'jetta', 'volvo': 's60'}\n"
     ]
    }
   ],
   "source": [
    "# Grouping by manufacturer and cylinders. Count the number of registries\n",
    "df102 = vehicles_df9.groupby([\"manufacturer\",\"model\"])[\"state\"].count().reset_index()\n",
    "\n",
    "# Group by manufaturer and extract the maximum value of the subgroup\n",
    "max_values = df102.groupby([\"manufacturer\"])[\"state\"].transform(\"max\")\n",
    "\n",
    "# Filter the data according to the max values\n",
    "result = df102[df102['state'] == max_values]\n",
    "\n",
    "# Build a dictionary containing manufacturer and cylinders.\n",
    "manufacturer_dict = result.set_index('manufacturer')['model'].to_dict()\n",
    "\n",
    "print(manufacturer_dict)\n",
    "#df102.head(20)"
   ]
  },
  {
   "cell_type": "code",
   "execution_count": 473,
   "id": "75e0c7da",
   "metadata": {},
   "outputs": [],
   "source": [
    "vehicles_df9.model.fillna(\"\",inplace=True)"
   ]
  },
  {
   "cell_type": "markdown",
   "id": "059add43",
   "metadata": {},
   "source": [
    "Imputation of missing value in column \"model\""
   ]
  },
  {
   "cell_type": "code",
   "execution_count": 474,
   "id": "4690893e",
   "metadata": {},
   "outputs": [],
   "source": [
    "vehicles_df9[\"model\"] = vehicles_df9.apply(lambda x: asigncylinder(manufacturer_dict,x,\"manufacturer\",\"model\"),axis=1)"
   ]
  },
  {
   "cell_type": "markdown",
   "id": "adc70ebb",
   "metadata": {},
   "source": [
    "Number of remaining missing values"
   ]
  },
  {
   "cell_type": "code",
   "execution_count": 475,
   "id": "49db7341",
   "metadata": {},
   "outputs": [
    {
     "data": {
      "text/plain": [
       "0"
      ]
     },
     "execution_count": 475,
     "metadata": {},
     "output_type": "execute_result"
    }
   ],
   "source": [
    "vehicles_df9.model.isnull().sum()"
   ]
  },
  {
   "cell_type": "markdown",
   "id": "67340b51",
   "metadata": {},
   "source": [
    "**Balance of the Missing Values Reduction Process**"
   ]
  },
  {
   "cell_type": "code",
   "execution_count": 476,
   "id": "23360014",
   "metadata": {},
   "outputs": [
    {
     "data": {
      "text/plain": [
       "price           0\n",
       "year            0\n",
       "manufacturer    0\n",
       "model           0\n",
       "condition       0\n",
       "cylinders       0\n",
       "fuel            0\n",
       "odometer        0\n",
       "title_status    0\n",
       "transmission    0\n",
       "drive           0\n",
       "type            0\n",
       "paint_color     0\n",
       "state           0\n",
       "dtype: int64"
      ]
     },
     "execution_count": 476,
     "metadata": {},
     "output_type": "execute_result"
    }
   ],
   "source": [
    "vehicles_df9.isnull().sum()"
   ]
  },
  {
   "cell_type": "markdown",
   "id": "86a35228",
   "metadata": {},
   "source": [
    "## Imbalance inside cathegorical variables  <a name=\"imbalance\"></a>"
   ]
  },
  {
   "cell_type": "code",
   "execution_count": 477,
   "id": "e0d7269c",
   "metadata": {},
   "outputs": [],
   "source": [
    "vehicles_df10 = vehicles_df9.copy()"
   ]
  },
  {
   "cell_type": "markdown",
   "id": "3ab97d30",
   "metadata": {},
   "source": [
    "**Removing predictor variable due to low discriminatory power**\n",
    "\n",
    "When a categorical variable is overwhelmingly dominated by a single category, its discriminatory power diminishes significantly. While there isn't a universally applicable threshold, it's commonly accepted that when one category encompasses over 90% or 95% of the observations, the variable's utility is greatly diminished. In such cases, removing the predictor becomes a suitable solution.\n",
    "\n",
    "For instance:\n",
    "\n",
    "1. **\"title_status\"**: The category \"clean\" commands a staggering 95.7% dominance.\n",
    "2. **\"transmission\"**: \"Automatic\" claims a substantial 88.6% share.\n",
    "3. **\"fuel\"**: \"Gas\" holds sway over 87% of the data.\n",
    "\n",
    "Such imbalances among categories can trigger various issues, including biased model training and poor generalization."
   ]
  },
  {
   "cell_type": "code",
   "execution_count": 478,
   "id": "5b636126",
   "metadata": {},
   "outputs": [],
   "source": [
    "vehicles_df10.drop([\"title_status\",\"transmission\",\"fuel\"],axis=1,inplace=True)"
   ]
  },
  {
   "cell_type": "markdown",
   "id": "6cc6e3b2",
   "metadata": {},
   "source": [
    "### FEATURE ENGINEERING   <a name=\"feature_engineering\"></a>"
   ]
  },
  {
   "cell_type": "code",
   "execution_count": 515,
   "id": "45bb3759",
   "metadata": {},
   "outputs": [],
   "source": [
    "vehicles_df_fe = vehicles_df10.copy()"
   ]
  },
  {
   "cell_type": "markdown",
   "id": "2758c0f4",
   "metadata": {},
   "source": [
    "When the category distribution inside a cathegorical variable is not dominated by one category, it is also important to adress imbalance if it exits. In this way, the robustness and accuracy of the model can be improved, ensuring that they perform well across all categories. "
   ]
  },
  {
   "cell_type": "markdown",
   "id": "9cc20838",
   "metadata": {},
   "source": [
    "**Variable \"year\"**  \n",
    "\n",
    "The year of a model of a car is typically considered categorical because it represents a discrete category or group rather than a continuous numeric value"
   ]
  },
  {
   "cell_type": "code",
   "execution_count": 516,
   "id": "880acce5",
   "metadata": {
    "scrolled": false
   },
   "outputs": [
    {
     "data": {
      "image/png": "[encoded data removed]",
      "text/plain": [
       "<Figure size 1200x300 with 1 Axes>"
      ]
     },
     "metadata": {},
     "output_type": "display_data"
    }
   ],
   "source": [
    "plt.figure(figsize=(12,3))\n",
    "dfyear = vehicles_df_fe.year.value_counts().reset_index().sort_values(by=\"year\")\n",
    "plt.title(\"Histogram of registries per year\")\n",
    "plt.bar(dfyear.year, dfyear[\"count\"])\n",
    "plt.ylabel(\"Count\")\n",
    "plt.xlabel(\"year\")\n",
    "plt.show()"
   ]
  },
  {
   "cell_type": "markdown",
   "id": "eed19cd7",
   "metadata": {},
   "source": [
    "Categorize the years into different groups and justify the grouping:\n",
    "\n",
    "1. **Older Than 2000**: These are cars manufactured before the year 2000. They have a significant price range, starting from 1000 and going up to 35900. Since they are older models, their prices tend to vary widely based on factors such as condition, mileage, and rarity.\n",
    "\n",
    "2. **2000 - 2004**: This period covers the early 2000s. Prices during this time range from 1000 to 33500. Cars from this era may be considered older but still relatively modern, and their prices reflect their age and condition.\n",
    "\n",
    "3. **2005 - 2009**: These years represent mid-2000s to late-2000s models. Prices in this period range from 1000 to 36999. Cars from this period may still be in good condition, but their prices may vary based on factors like mileage and maintenance history.\n",
    "\n",
    "4. **2010 - 2014**: This period includes cars from the early 2010s. Prices range from 1000 to 36999. These cars are relatively modern and may have more advanced features compared to older models, influencing their prices.\n",
    "\n",
    "5. **2015 - 2019**: These years represent recent models from the mid-2010s to late-2010s. Prices range from 1000 to 37419. Cars from this period may have newer technology and features, which can affect their pricing.\n",
    "\n",
    "6. **2020 - 2021**: These are the most recent models available in the dataset. Prices range from 1000 to 36988. Cars from these years are likely to have the latest technology and features, potentially commanding higher prices.\n",
    "\n",
    "By categorizing the years into these groups, we can observe how prices vary across different periods and gain insights into the general trends in the automotive market over time."
   ]
  },
  {
   "cell_type": "code",
   "execution_count": 517,
   "id": "558fb0e1",
   "metadata": {},
   "outputs": [],
   "source": [
    "def asignyearlabel(x):\n",
    "    \n",
    "    if x < 2000:\n",
    "        return \"before 2000\"\n",
    "    elif (x >= 2000) & (x <= 2004):\n",
    "        return \"2000-2004\"\n",
    "    elif (x >= 2005) & (x <= 2009):\n",
    "        return \"2005-2009\"\n",
    "    elif (x >= 2010) & (x <= 2014):\n",
    "        return \"2010-2014\"\n",
    "    elif (x >= 2015) & (x <= 2019):\n",
    "        return \"2015-2019\"\n",
    "    elif (x >= 2010):\n",
    "        return \"After 2020\"\n",
    "    \n",
    "vehicles_df_fe['year_category'] = vehicles_df_fe.year.apply(lambda x: asignyearlabel(x))"
   ]
  },
  {
   "cell_type": "markdown",
   "id": "10ae54e0",
   "metadata": {},
   "source": [
    "**Variable \"age\"** \n",
    "\n",
    "the variable \"age\" provides valuable information about a car's condition, maintenance needs, and potential value, making it an important predictor in various contexts such as pricing models, risk assessment, and market analysis within the automotive industry.\n",
    "\n",
    "Creating a variable \"age\" to reflect the elapsed time since the car's construction.\n",
    "\n"
   ]
  },
  {
   "cell_type": "code",
   "execution_count": 520,
   "id": "fc934aa6",
   "metadata": {},
   "outputs": [],
   "source": [
    "vehicles_df_fe[\"age\"] = 2014 - vehicles_df_fe[\"year\"]"
   ]
  },
  {
   "cell_type": "markdown",
   "id": "0784dfd7",
   "metadata": {},
   "source": [
    "Removing variable \"year\""
   ]
  },
  {
   "cell_type": "code",
   "execution_count": 521,
   "id": "573a07bf",
   "metadata": {},
   "outputs": [],
   "source": [
    "vehicles_df_fe.drop([\"year\"],axis=1,inplace=True)"
   ]
  },
  {
   "cell_type": "markdown",
   "id": "8667155b",
   "metadata": {},
   "source": [
    "**Variable \"cylinder\"**  \n",
    "\n",
    "The imbalance in the distribution of cylinder counts could potentially affect the performance of predictive models trained on this data. Models might struggle to accurately predict less frequent categories due to the limited amount of training data available for those categories. "
   ]
  },
  {
   "cell_type": "code",
   "execution_count": 522,
   "id": "2bbc5d02",
   "metadata": {
    "scrolled": true
   },
   "outputs": [
    {
     "data": {
      "text/plain": [
       "cylinders\n",
       "8 cylinders     8038\n",
       "4 cylinders     6990\n",
       "6 cylinders     6585\n",
       "5 cylinders      175\n",
       "10 cylinders      62\n",
       "3 cylinders       35\n",
       "other             34\n",
       "12 cylinders       7\n",
       "Name: count, dtype: int64"
      ]
     },
     "execution_count": 522,
     "metadata": {},
     "output_type": "execute_result"
    }
   ],
   "source": [
    "vehicles_df_fe.cylinders.value_counts()"
   ]
  },
  {
   "cell_type": "markdown",
   "id": "9370c8c1",
   "metadata": {},
   "source": [
    "**Minimizing imbalance by grouping some categories** \n"
   ]
  },
  {
   "cell_type": "markdown",
   "id": "3040b78a",
   "metadata": {},
   "source": [
    "Based on these characteristics, we can group the cylinder types as follows:\n",
    "\n",
    "1. Group 1: Economy and Small Cars (2, 3, 4-Cylinder)\n",
    "2. Group 2: Midsize and Larger Cars (5, 6-Cylinder)\n",
    "3. Group 3: Performance and Luxury Cars (8, 10, 12-Cylinder)\n",
    "4. Group 4: others\n",
    "\n",
    "Sources:    \n",
    "4 Cylinder vs 6 Cylinder - What's the Difference?\"\n",
    "https://cascadecollision.com/blog/4-cylinder-vs-6-cylinder-engine-whats-the-difference/#:~:text=The%20key%20things%20to%20keep,have%20a%204%2Dcylinder%20engine.\n",
    "\n",
    "Engine Displacement and Performance\" \n",
    "https://www.cati.ca/what-is-engine-displacement-5-facts-for-students-at-automotive-mechanic-schools/#:~:text=The%20Effect%20of%20Engine%20Displacement,engine%20to%20generate%20more%20power.\n",
    "\n",
    "How little engines are taking over American cars in a big way\n",
    "https://www.ctvnews.ca/autos/how-little-engines-are-taking-over-american-cars-in-a-big-way-1.6357466"
   ]
  },
  {
   "cell_type": "markdown",
   "id": "25d34c02",
   "metadata": {},
   "source": [
    "**Definition of new cathegorical predictor based on the column cylinder.**"
   ]
  },
  {
   "cell_type": "code",
   "execution_count": 523,
   "id": "e7ce10f7",
   "metadata": {},
   "outputs": [],
   "source": [
    "dictcylinder = dict()\n",
    "dictcylinder[\"8 cylinders\"] = \"Performance and Luxury\"\n",
    "dictcylinder[\"10 cylinders\"] = \"Performance and Luxury\"\n",
    "dictcylinder[\"12 cylinders\"] = \"Performance and Luxury\"\n",
    "\n",
    "dictcylinder[\"5 cylinders\"] = \"Midsize and Larg\"\n",
    "dictcylinder[\"6 cylinders\"] = \"Midsize and Larg\"\n",
    "\n",
    "dictcylinder[\"3 cylinders\"] = \"Economy and Small\"\n",
    "dictcylinder[\"4 cylinders\"] = \"Economy and Small\"\n",
    "\n",
    "dictcylinder[\"other\"] = \"others\""
   ]
  },
  {
   "cell_type": "markdown",
   "id": "7b9828a3",
   "metadata": {},
   "source": [
    "Creation new predictor "
   ]
  },
  {
   "cell_type": "code",
   "execution_count": 524,
   "id": "26601823",
   "metadata": {},
   "outputs": [],
   "source": [
    "vehicles_df_fe[\"cylinders_g\"] = vehicles_df_fe[\"cylinders\"].apply(lambda x: dictcylinder[x])"
   ]
  },
  {
   "cell_type": "markdown",
   "id": "2c89fa1e",
   "metadata": {},
   "source": [
    "New distribution"
   ]
  },
  {
   "cell_type": "code",
   "execution_count": 525,
   "id": "9f832d12",
   "metadata": {},
   "outputs": [
    {
     "data": {
      "text/plain": [
       "cylinders_g\n",
       "Performance and Luxury    8107\n",
       "Economy and Small         7025\n",
       "Midsize and Larg          6760\n",
       "others                      34\n",
       "Name: count, dtype: int64"
      ]
     },
     "execution_count": 525,
     "metadata": {},
     "output_type": "execute_result"
    }
   ],
   "source": [
    "vehicles_df_fe.cylinders_g.value_counts()"
   ]
  },
  {
   "cell_type": "markdown",
   "id": "d05e3466",
   "metadata": {},
   "source": [
    "Removing variable \"cylinder\""
   ]
  },
  {
   "cell_type": "code",
   "execution_count": 526,
   "id": "c1a32271",
   "metadata": {},
   "outputs": [],
   "source": [
    "vehicles_df_fe.drop([\"cylinders\"],axis=1,inplace=True)"
   ]
  },
  {
   "cell_type": "markdown",
   "id": "2e5431d2",
   "metadata": {},
   "source": [
    "**Variable odometer** <a name=\"odometer_cathegorical\"></a>"
   ]
  },
  {
   "cell_type": "markdown",
   "id": "02f9518b",
   "metadata": {},
   "source": [
    "Based on the preceding analysis, it's evident that the odometer variable exhibits a right-skewed distribution with outliers. Moreover, the likelihood of users specifying precise odometer values during car purchases is relatively low. Consequently, to address these issues, the variable's values will be categorized as follows:\n",
    "\n",
    "1. Low Mileage: 0 - 30,000 miles\n",
    "2. Moderate Mileage: 30,001 - 70,000 miles\n",
    "3. High Mileage: 70,001 - 100,000 miles\n",
    "4. Very High Mileage: 100,001 miles and above\n",
    "\n",
    "These categorizations offer a straightforward method for classifying odometer readings into distinct ranges based on mileage levels."
   ]
  },
  {
   "cell_type": "code",
   "execution_count": 527,
   "id": "7ac6cc84",
   "metadata": {},
   "outputs": [],
   "source": [
    "def odometercat(x):\n",
    "    if x <= 30000:\n",
    "        return \"Low\"\n",
    "    elif (x >= 30001) & (x <= 70000):\n",
    "        return \"Moderate\"\n",
    "    elif (x >= 70001) & (x <= 100000):\n",
    "        return \"High\"\n",
    "    else:\n",
    "        return \"Very High\""
   ]
  },
  {
   "cell_type": "markdown",
   "id": "9007579e",
   "metadata": {},
   "source": [
    "Bulding new cathegorical variable based on odometer ranges"
   ]
  },
  {
   "cell_type": "code",
   "execution_count": 528,
   "id": "a0fa8c76",
   "metadata": {},
   "outputs": [],
   "source": [
    "vehicles_df_fe[\"odometer_cat\"] = vehicles_df_fe.odometer.apply(lambda x: odometercat(x))"
   ]
  },
  {
   "cell_type": "markdown",
   "id": "fba623f5",
   "metadata": {},
   "source": [
    "Printing new categories"
   ]
  },
  {
   "cell_type": "code",
   "execution_count": 529,
   "id": "be54a0ca",
   "metadata": {},
   "outputs": [
    {
     "data": {
      "text/plain": [
       "odometer_cat\n",
       "Very High    8511\n",
       "High         7371\n",
       "Moderate     3868\n",
       "Low          2176\n",
       "Name: count, dtype: int64"
      ]
     },
     "execution_count": 529,
     "metadata": {},
     "output_type": "execute_result"
    }
   ],
   "source": [
    "vehicles_df_fe.odometer_cat.value_counts()"
   ]
  },
  {
   "cell_type": "markdown",
   "id": "500b681d",
   "metadata": {},
   "source": [
    "Removing old odometer variable"
   ]
  },
  {
   "cell_type": "code",
   "execution_count": 530,
   "id": "840bf1d2",
   "metadata": {},
   "outputs": [],
   "source": [
    "vehicles_df_fe.drop([\"odometer\"],axis=1,inplace=True)"
   ]
  },
  {
   "cell_type": "markdown",
   "id": "e2bfb375",
   "metadata": {},
   "source": [
    "## Data Analysis  <a name=\"data_analysis\"></a>"
   ]
  },
  {
   "cell_type": "markdown",
   "id": "95359a92",
   "metadata": {},
   "source": [
    "### Discriminatory power  <a name=\"discriminatory_power\"></a>"
   ]
  },
  {
   "cell_type": "code",
   "execution_count": 531,
   "id": "d565da4b",
   "metadata": {},
   "outputs": [],
   "source": [
    "def rsquaredcalculation(df,category,target,is_cat):\n",
    "    \n",
    "    #inputs\n",
    "    # df = dataframe with the values\n",
    "    # category : label with the name of the column in dataframe\n",
    "    # target   : label with the name of the dependent variables.\n",
    "    # is_cat   : (False/True) indicates whether the predictor variable (category) is cathegorical or not.\n",
    "    \n",
    "    \n",
    "    # Separate target variable and predictor variable\n",
    "    X = df[[category]]  # Predictor variable (categorical)\n",
    "    y = df[target]  # Target variable (continuous)\n",
    "\n",
    "    # Define column transformer to perform one-hot encoding\n",
    "    column_transformer = ColumnTransformer(\n",
    "        transformers=[\n",
    "            ('encoder', OneHotEncoder(), [category])\n",
    "        ],\n",
    "        remainder='passthrough'\n",
    "    )\n",
    "\n",
    "    # Define linear regression model\n",
    "    model = LinearRegression()\n",
    "\n",
    "    if is_cat == True:\n",
    "        # Create pipeline\n",
    "        pipeline = Pipeline([\n",
    "            ('preprocessor', column_transformer),\n",
    "            ('model', model)\n",
    "        ])\n",
    "\n",
    "        # Fit the pipeline to the data\n",
    "        pipeline.fit(X, y)\n",
    "\n",
    "        # Make predictions\n",
    "        predictions = pipeline.predict(X)\n",
    "    else:\n",
    "        model.fit(X, y)\n",
    "        predictions = model.predict(X)\n",
    "        \n",
    "    # Calculate R-squared value\n",
    "    r_squared = r2_score(y, predictions)\n",
    "    return r_squared\n",
    "\n"
   ]
  },
  {
   "cell_type": "markdown",
   "id": "54c12b36",
   "metadata": {},
   "source": [
    "**Calculating R-square values assuming a linear relationship between each predictor with the target variable**"
   ]
  },
  {
   "cell_type": "code",
   "execution_count": 532,
   "id": "6ca49cf4",
   "metadata": {
    "scrolled": false
   },
   "outputs": [
    {
     "data": {
      "image/png": "[encoded data removed]",
      "text/plain": [
       "<Figure size 1200x300 with 1 Axes>"
      ]
     },
     "metadata": {},
     "output_type": "display_data"
    }
   ],
   "source": [
    "#Categorical variables \n",
    "listcat = [\"manufacturer\",\"model\",\"condition\",\"cylinders_g\",\"drive\",\"type\", \\\n",
    "           \"paint_color\",\"state\",\"year_category\",\"odometer_cat\"]\n",
    "\n",
    "dictvar = dict()\n",
    "for varcat in listcat:\n",
    "    dictvar[varcat] = rsquaredcalculation(vehicles_df_fe,varcat,\"price\",True)\n",
    "\n",
    "#Continuous variables\n",
    "dictvar[\"age\"] = rsquaredcalculation(vehicles_df_fe,\"age\",\"price\",False)\n",
    "\n",
    "#Visualization\n",
    "plt.figure(figsize=(12,3))\n",
    "plt.title(\"R-Squared values between each predictor with price\")\n",
    "plt.bar(dictvar.keys(), dictvar.values())\n",
    "plt.ylabel(\"R-squared\")\n",
    "plt.xlabel(\"Predictor variables\")\n",
    "plt.xticks(rotation=45)\n",
    "plt.show()"
   ]
  },
  {
   "cell_type": "markdown",
   "id": "9aa87dee",
   "metadata": {},
   "source": [
    "R-squared scores"
   ]
  },
  {
   "cell_type": "code",
   "execution_count": 533,
   "id": "0b246e5d",
   "metadata": {},
   "outputs": [
    {
     "name": "stdout",
     "output_type": "stream",
     "text": [
      "{'manufacturer': 0.08373845303568073, 'model': 0.5649056811734123, 'condition': 0.018629690341571692, 'cylinders_g': 0.045303376609514334, 'drive': 0.0755000156393758, 'type': 0.10253438165639794, 'paint_color': 0.011020725765414463, 'state': 0.03711667748497294, 'year_category': 0.3511813194549894, 'odometer_cat': 0.22642985910097957, 'age': 0.13187120859725798}\n"
     ]
    }
   ],
   "source": [
    "print(dictvar)"
   ]
  },
  {
   "cell_type": "markdown",
   "id": "e5bd1c0a",
   "metadata": {},
   "source": [
    "**Conclusions:**   \n",
    "\n",
    "Regarding the potential linear relationship between the predictor and the target variable, the R-squared values reveal that the car's model stands out as the most impactful, exhibiting a robust association with car price, indicated by its highest R-squared value of 0.56. Additionally, the year of the model, the odometer, the age, the type and manufacturer demonstrate a moderate association at 0.38,0.22,0.13, 0.1025 and 0.083,respectively.  Conversely, other factors display weaker associations with car price.\n"
   ]
  },
  {
   "cell_type": "markdown",
   "id": "c69e64e5",
   "metadata": {},
   "source": [
    "### Modeling  <a name=\"modeling\"></a>"
   ]
  },
  {
   "cell_type": "code",
   "execution_count": 535,
   "id": "aa842590",
   "metadata": {},
   "outputs": [],
   "source": [
    "vehicles_df_m = vehicles_df_fe[[\"price\",\"model\",\"age\",\"odometer_cat\",\"drive\",\"year_category\",\"type\",\"manufacturer\"]].copy()"
   ]
  },
  {
   "cell_type": "markdown",
   "id": "f8be049b",
   "metadata": {},
   "source": [
    "**Adjusted price strategy**"
   ]
  },
  {
   "cell_type": "markdown",
   "id": "7d431056",
   "metadata": {},
   "source": [
    "When proposing a model to implement the adjusted price strategy,  machine learning algorithms that can handle regression tasks effectively and is capable of capturing complex relationships in the data are necessary. For example,  ensemble methods like Random Forest or Gradient Boosting, such as XGBoost or LightGBM. \n",
    "\n",
    "Important feature of the chosen models: \n",
    "\n",
    "1. **Ability to Capture Complex Relationships**: These algorithms can capture non-linear relationships and interactions between car features and prices, which is crucial for accurately predicting adjusted prices.\n",
    "2. **Robustness to Outliers and Noise**: Ensemble methods are robust to outliers and noisy data, which is common in real-world datasets like car pricing data.\n"
   ]
  },
  {
   "cell_type": "markdown",
   "id": "03e14b8d",
   "metadata": {},
   "source": [
    "**Model LightGBM** <a name=\"lightgbm\"></a>"
   ]
  },
  {
   "cell_type": "markdown",
   "id": "1f4f4b92",
   "metadata": {},
   "source": [
    "Additionally to the last ones, LightGBM offers several advantages when dealing with categorical variables:\n",
    "\n",
    "1. **Optimized Handling**: It internally converts categorical features into integer codes using techniques like 'Feature Parallel' and 'Histogram-based' methods, which can lead to faster training and better performance compared to other gradient boosting implementations.\n",
    "\n",
    "2. **Improved Accuracy**: LightGBM's efficient handling of categorical variables can lead to improved model accuracy, especially when dealing with high-cardinality categorical features where traditional encoding methods may be less effective.\n",
    "\n"
   ]
  },
  {
   "cell_type": "markdown",
   "id": "09853654",
   "metadata": {},
   "source": [
    "**Normalization of variables \"age\"**"
   ]
  },
  {
   "cell_type": "code",
   "execution_count": 536,
   "id": "af094ed0",
   "metadata": {},
   "outputs": [],
   "source": [
    "from sklearn.preprocessing import MinMaxScaler\n",
    "from sklearn.preprocessing import StandardScaler\n",
    "\n",
    "# Initialize MinMaxScaler\n",
    "scaler = MinMaxScaler()\n",
    "#scaler = StandardScaler()\n",
    "\n",
    "# Normalize age and odometer\n",
    "vehicles_df_m['age'] = scaler.fit_transform(vehicles_df_m[['age']])\n"
   ]
  },
  {
   "cell_type": "markdown",
   "id": "7b2bfb10",
   "metadata": {},
   "source": [
    "**Standarization of variable \"model\"** \n",
    "\n",
    "Removing accent and special characters"
   ]
  },
  {
   "cell_type": "code",
   "execution_count": 537,
   "id": "f7db9045",
   "metadata": {},
   "outputs": [],
   "source": [
    "vehicles_df_m.model = vehicles_df_m.model.apply(lambda x: x.strip())\n",
    "vehicles_df_m.model= vehicles_df_m.model.apply(lambda x: re.sub(r'[^\\p{L}\\p{N}\\s]', '', x))\n",
    "vehicles_df_m.model= vehicles_df_m.model.apply(lambda x: unidecode(x))\n",
    "vehicles_df_m.model= vehicles_df_m.model.apply(lambda x: x.replace(\" \",\"_\"))\n"
   ]
  },
  {
   "cell_type": "markdown",
   "id": "c2301daf",
   "metadata": {},
   "source": [
    "Defining cathegorical variables as categories for lightGBM"
   ]
  },
  {
   "cell_type": "code",
   "execution_count": 538,
   "id": "55b08e2f",
   "metadata": {
    "scrolled": false
   },
   "outputs": [
    {
     "name": "stdout",
     "output_type": "stream",
     "text": [
      "<class 'pandas.core.frame.DataFrame'>\n",
      "Index: 21926 entries, 0 to 26987\n",
      "Data columns (total 8 columns):\n",
      " #   Column         Non-Null Count  Dtype   \n",
      "---  ------         --------------  -----   \n",
      " 0   price          21926 non-null  int64   \n",
      " 1   model          21926 non-null  category\n",
      " 2   age            21926 non-null  float64 \n",
      " 3   odometer_cat   21926 non-null  category\n",
      " 4   drive          21926 non-null  category\n",
      " 5   year_category  21926 non-null  category\n",
      " 6   type           21926 non-null  category\n",
      " 7   manufacturer   21926 non-null  category\n",
      "dtypes: category(6), float64(1), int64(1)\n",
      "memory usage: 838.7 KB\n"
     ]
    }
   ],
   "source": [
    "vehicles_df_m.model = vehicles_df_m.model.astype('category')\n",
    "vehicles_df_m.drive = vehicles_df_m.drive.astype('category')\n",
    "vehicles_df_m.odometer_cat = vehicles_df_m.odometer_cat.astype(\"category\")\n",
    "vehicles_df_m.manufacturer = vehicles_df_m.manufacturer.astype(\"category\")\n",
    "vehicles_df_m[\"type\"] = vehicles_df_m[\"type\"].astype(\"category\")\n",
    "vehicles_df_m.year_category = vehicles_df_m.year_category.astype('category')\n",
    "vehicles_df_m.info()"
   ]
  },
  {
   "cell_type": "markdown",
   "id": "8989bcbd",
   "metadata": {},
   "source": [
    "**Implementation of model training**"
   ]
  },
  {
   "cell_type": "code",
   "execution_count": 539,
   "id": "8513f5ce",
   "metadata": {},
   "outputs": [
    {
     "data": {
      "text/plain": [
       "(21926, 8)"
      ]
     },
     "execution_count": 539,
     "metadata": {},
     "output_type": "execute_result"
    }
   ],
   "source": [
    "#vehicles_df_m = vehicles_df_m[0:20000]\n",
    "vehicles_df_m.shape"
   ]
  },
  {
   "cell_type": "markdown",
   "id": "3a2f4958",
   "metadata": {},
   "source": [
    "**Training and test set**"
   ]
  },
  {
   "cell_type": "code",
   "execution_count": 540,
   "id": "15dc3de6",
   "metadata": {},
   "outputs": [],
   "source": [
    "X = vehicles_df_m.drop(columns=['price'])\n",
    "y = vehicles_df_m['price']"
   ]
  },
  {
   "cell_type": "code",
   "execution_count": 541,
   "id": "f366f8c9",
   "metadata": {},
   "outputs": [],
   "source": [
    "# Split the data into training and testing sets\n",
    "X_train, X_test, y_train, y_test = train_test_split(X, y, test_size=0.2, random_state=42)\n",
    "\n",
    "# Create LightGBM dataset\n",
    "#train_data = lgb.Dataset(X_train, label=y_train)\n",
    "#test_data = lgb.Dataset(X_test, label=y_test)"
   ]
  },
  {
   "cell_type": "markdown",
   "id": "4e1482d2",
   "metadata": {},
   "source": [
    "**Gridsearch for hyperparameter tunning** <a name=\"grid_search\"></a>"
   ]
  },
  {
   "cell_type": "code",
   "execution_count": 230,
   "id": "ae839924",
   "metadata": {
    "scrolled": false
   },
   "outputs": [
    {
     "name": "stdout",
     "output_type": "stream",
     "text": [
      "{'bagging_freq': 5, 'boosting_type': 'gbdt', 'cat_l2': 4, 'cat_smooth': 4, 'lambda_l1': 0.1, 'lambda_l2': 0.1, 'learning_rate': 0.1, 'max_depth': 5, 'num_leaves': 31, 'objective': 'regression', 'verbosity': -1}\n"
     ]
    }
   ],
   "source": [
    "# Define parameter grid\n",
    "param_grid = {\n",
    "     'objective': ['regression'],\n",
    "    'boosting_type': ['gbdt','dart'],\n",
    "    'num_leaves': [31, 50, 100],\n",
    "    'learning_rate': [0.1, 0.01, 0.001],\n",
    "    'max_depth': [-1, 3, 5],\n",
    "    'verbosity': [-1],\n",
    "    'cat_l2': [4,10,16],  # L2 regularization for categorical features\n",
    "    'cat_smooth': [4,10,16],  # smoothing parameter for categorical features\n",
    "    'bagging_freq': [5,10,15],\n",
    "    'lambda_l1': [0.1,0.01,0.001],  # L1 regularization\n",
    "    'lambda_l2': [0.1,0.01,0.001]  # L2 regularization\n",
    "    # Add other parameters to tune\n",
    "}\n",
    "\n",
    "# Perform grid search\n",
    "grid_search = GridSearchCV(estimator=lgb.LGBMRegressor(), param_grid=param_grid, cv=5)\n",
    "grid_search.fit(X_train, y_train)\n",
    "\n",
    "# Get the best parameters\n",
    "best_params = grid_search.best_params_\n",
    "\n",
    "print(best_params)"
   ]
  },
  {
   "cell_type": "markdown",
   "id": "dde1afb8",
   "metadata": {},
   "source": [
    "**Prediction with optimized parameters**"
   ]
  },
  {
   "cell_type": "code",
   "execution_count": 542,
   "id": "acbd42d7",
   "metadata": {},
   "outputs": [
    {
     "data": {
      "text/html": [
       "<style>#sk-container-id-4 {color: black;}#sk-container-id-4 pre{padding: 0;}#sk-container-id-4 div.sk-toggleable {background-color: white;}#sk-container-id-4 label.sk-toggleable__label {cursor: pointer;display: block;width: 100%;margin-bottom: 0;padding: 0.3em;box-sizing: border-box;text-align: center;}#sk-container-id-4 label.sk-toggleable__label-arrow:before {content: \"▸\";float: left;margin-right: 0.25em;color: #696969;}#sk-container-id-4 label.sk-toggleable__label-arrow:hover:before {color: black;}#sk-container-id-4 div.sk-estimator:hover label.sk-toggleable__label-arrow:before {color: black;}#sk-container-id-4 div.sk-toggleable__content {max-height: 0;max-width: 0;overflow: hidden;text-align: left;background-color: #f0f8ff;}#sk-container-id-4 div.sk-toggleable__content pre {margin: 0.2em;color: black;border-radius: 0.25em;background-color: #f0f8ff;}#sk-container-id-4 input.sk-toggleable__control:checked~div.sk-toggleable__content {max-height: 200px;max-width: 100%;overflow: auto;}#sk-container-id-4 input.sk-toggleable__control:checked~label.sk-toggleable__label-arrow:before {content: \"▾\";}#sk-container-id-4 div.sk-estimator input.sk-toggleable__control:checked~label.sk-toggleable__label {background-color: #d4ebff;}#sk-container-id-4 div.sk-label input.sk-toggleable__control:checked~label.sk-toggleable__label {background-color: #d4ebff;}#sk-container-id-4 input.sk-hidden--visually {border: 0;clip: rect(1px 1px 1px 1px);clip: rect(1px, 1px, 1px, 1px);height: 1px;margin: -1px;overflow: hidden;padding: 0;position: absolute;width: 1px;}#sk-container-id-4 div.sk-estimator {font-family: monospace;background-color: #f0f8ff;border: 1px dotted black;border-radius: 0.25em;box-sizing: border-box;margin-bottom: 0.5em;}#sk-container-id-4 div.sk-estimator:hover {background-color: #d4ebff;}#sk-container-id-4 div.sk-parallel-item::after {content: \"\";width: 100%;border-bottom: 1px solid gray;flex-grow: 1;}#sk-container-id-4 div.sk-label:hover label.sk-toggleable__label {background-color: #d4ebff;}#sk-container-id-4 div.sk-serial::before {content: \"\";position: absolute;border-left: 1px solid gray;box-sizing: border-box;top: 0;bottom: 0;left: 50%;z-index: 0;}#sk-container-id-4 div.sk-serial {display: flex;flex-direction: column;align-items: center;background-color: white;padding-right: 0.2em;padding-left: 0.2em;position: relative;}#sk-container-id-4 div.sk-item {position: relative;z-index: 1;}#sk-container-id-4 div.sk-parallel {display: flex;align-items: stretch;justify-content: center;background-color: white;position: relative;}#sk-container-id-4 div.sk-item::before, #sk-container-id-4 div.sk-parallel-item::before {content: \"\";position: absolute;border-left: 1px solid gray;box-sizing: border-box;top: 0;bottom: 0;left: 50%;z-index: -1;}#sk-container-id-4 div.sk-parallel-item {display: flex;flex-direction: column;z-index: 1;position: relative;background-color: white;}#sk-container-id-4 div.sk-parallel-item:first-child::after {align-self: flex-end;width: 50%;}#sk-container-id-4 div.sk-parallel-item:last-child::after {align-self: flex-start;width: 50%;}#sk-container-id-4 div.sk-parallel-item:only-child::after {width: 0;}#sk-container-id-4 div.sk-dashed-wrapped {border: 1px dashed gray;margin: 0 0.4em 0.5em 0.4em;box-sizing: border-box;padding-bottom: 0.4em;background-color: white;}#sk-container-id-4 div.sk-label label {font-family: monospace;font-weight: bold;display: inline-block;line-height: 1.2em;}#sk-container-id-4 div.sk-label-container {text-align: center;}#sk-container-id-4 div.sk-container {/* jupyter's `normalize.less` sets `[hidden] { display: none; }` but bootstrap.min.css set `[hidden] { display: none !important; }` so we also need the `!important` here to be able to override the default hidden behavior on the sphinx rendered scikit-learn.org. See: https://github.com/scikit-learn/scikit-learn/issues/21755 */display: inline-block !important;position: relative;}#sk-container-id-4 div.sk-text-repr-fallback {display: none;}</style><div id=\"sk-container-id-4\" class=\"sk-top-container\"><div class=\"sk-text-repr-fallback\"><pre>LGBMRegressor(bagging_fraction=0.8, bagging_freq=5, cat_l2=4, cat_smooth=4,\n",
       "              feature_fraction=0.8, lambda_l1=0.1, lambda_l2=0.1, max_depth=5,\n",
       "              metric=&#x27;mse&#x27;, objective=&#x27;regression&#x27;, verbosity=-1)</pre><b>In a Jupyter environment, please rerun this cell to show the HTML representation or trust the notebook. <br />On GitHub, the HTML representation is unable to render, please try loading this page with nbviewer.org.</b></div><div class=\"sk-container\" hidden><div class=\"sk-item\"><div class=\"sk-estimator sk-toggleable\"><input class=\"sk-toggleable__control sk-hidden--visually\" id=\"sk-estimator-id-4\" type=\"checkbox\" checked><label for=\"sk-estimator-id-4\" class=\"sk-toggleable__label sk-toggleable__label-arrow\">LGBMRegressor</label><div class=\"sk-toggleable__content\"><pre>LGBMRegressor(bagging_fraction=0.8, bagging_freq=5, cat_l2=4, cat_smooth=4,\n",
       "              feature_fraction=0.8, lambda_l1=0.1, lambda_l2=0.1, max_depth=5,\n",
       "              metric=&#x27;mse&#x27;, objective=&#x27;regression&#x27;, verbosity=-1)</pre></div></div></div></div></div>"
      ],
      "text/plain": [
       "LGBMRegressor(bagging_fraction=0.8, bagging_freq=5, cat_l2=4, cat_smooth=4,\n",
       "              feature_fraction=0.8, lambda_l1=0.1, lambda_l2=0.1, max_depth=5,\n",
       "              metric='mse', objective='regression', verbosity=-1)"
      ]
     },
     "execution_count": 542,
     "metadata": {},
     "output_type": "execute_result"
    }
   ],
   "source": [
    "# Define parameters for LightGBM\n",
    "params = {\n",
    "    'objective': 'regression',  # for regression tasks\n",
    "    'metric': 'mse',  # mean squared error as the evaluation metric\n",
    "    'boosting_type': 'gbdt',  # gradient boosting decision tree\n",
    "    'num_leaves': 31,  # maximum number of leaves in one tree\n",
    "    'learning_rate': 0.1,  # learning rate\n",
    "    'feature_fraction': 0.8,  # randomly select a subset of features\n",
    "    'bagging_fraction': 0.8,  # randomly select a subset of data\n",
    "    'bagging_freq': 5,  # perform bagging at every 5 iterations\n",
    "    'max_depth': 5,  # no limit on the maximum depth of trees\n",
    "    'lambda_l1': 0.1,  # L1 regularization\n",
    "    'lambda_l2': 0.1,  # L2 regularization\n",
    "    'cat_l2': 4,  # L2 regularization for categorical features\n",
    "    'cat_smooth': 4,  # smoothing parameter for categorical features\n",
    "    'verbosity': -1  # silent mode\n",
    "}\n",
    "\n",
    "# Create and train LGBMRegressor model\n",
    "model = lgb.LGBMRegressor(**params)\n",
    "model.fit(X_train, y_train)\n",
    "\n"
   ]
  },
  {
   "cell_type": "markdown",
   "id": "a85c8d1d",
   "metadata": {},
   "source": [
    "**Validation of training and testing**"
   ]
  },
  {
   "cell_type": "code",
   "execution_count": 543,
   "id": "7b691d01",
   "metadata": {},
   "outputs": [
    {
     "name": "stdout",
     "output_type": "stream",
     "text": [
      "Mean Squared Error train: 17645642.91038281\n",
      "Mean Squared Error: test 21207401.764878113\n"
     ]
    }
   ],
   "source": [
    "# Make predictions\n",
    "y_pred = model.predict(X_test)\n",
    "\n",
    "# Make predictions\n",
    "y_pred_train = model.predict(X_train)\n",
    "\n",
    "# Evaluate the model\n",
    "mse = mean_squared_error(y_train, y_pred_train)\n",
    "print(\"Mean Squared Error train:\", mse)\n",
    "\n",
    "# Make predictions\n",
    "y_pred = model.predict(X_test)\n",
    "\n",
    "# Evaluate the model\n",
    "mse = mean_squared_error(y_test, y_pred)\n",
    "print(\"Mean Squared Error: test\", mse)\n"
   ]
  },
  {
   "cell_type": "markdown",
   "id": "e0f9820e",
   "metadata": {},
   "source": [
    "### Results  <a name=\"results\"></a>"
   ]
  },
  {
   "cell_type": "markdown",
   "id": "5e262628",
   "metadata": {},
   "source": [
    "**Visualization of mapping between actual prices and predicted prices in the training set** <a name=\"actual_vs_predicted\"></a>"
   ]
  },
  {
   "cell_type": "code",
   "execution_count": 544,
   "id": "abc5809d",
   "metadata": {
    "scrolled": false
   },
   "outputs": [
    {
     "data": {
      "image/png": "[encoded data removed]",
      "text/plain": [
       "<Figure size 1200x300 with 1 Axes>"
      ]
     },
     "metadata": {},
     "output_type": "display_data"
    }
   ],
   "source": [
    "# Actual vs. Predicted plot\n",
    "plt.figure(figsize=(12, 3))\n",
    "plt.scatter(y_train, y_pred_train)\n",
    "plt.plot([min(y_train), max(y_train)], [min(y_pred_train), max(y_pred_train)], '--', color='red')  # diagonal line\n",
    "plt.title('Actual vs. Predicted prices in Train set')\n",
    "plt.xlabel('Actual prices')\n",
    "plt.ylabel('Predicted prices')\n",
    "plt.show()"
   ]
  },
  {
   "cell_type": "markdown",
   "id": "e3247806",
   "metadata": {},
   "source": [
    "**Q-Q plot** \n",
    "\n",
    "Q-Q plots are often used to check if a dataset follows a specific theoretical distribution \n",
    "If the points align closely with the diagonal line, it suggests that the dataset follows that distribution.\n",
    "\n",
    "Interpretation: \n",
    "    \n",
    "If the points are above the diagonal line, it indicates that the dataset being tested has higher values than the reference dataset at those quantiles.\n",
    "If the points are below the diagonal line, it suggests that the dataset being tested has lower values than the reference dataset at those quantiles."
   ]
  },
  {
   "cell_type": "code",
   "execution_count": 545,
   "id": "6eea95e1",
   "metadata": {
    "scrolled": true
   },
   "outputs": [
    {
     "data": {
      "image/png": "[encoded data removed]",
      "text/plain": [
       "<Figure size 500x300 with 1 Axes>"
      ]
     },
     "metadata": {},
     "output_type": "display_data"
    }
   ],
   "source": [
    "# Define the percentiles you want to calculate\n",
    "percentiles = [0, 0.05, 0.10, 0.20, 0.25,0.30, 0.35,0.45, 0.50,0.60, 0.75,0.85,0.95, 1]  # List of percentiles from 0 to 100\n",
    "\n",
    "plt.figure(figsize=(5,3))\n",
    "plt.title(\"Q-Q plot comparison\")\n",
    "# Calculate the percentiles using the quantile() method\n",
    "resultreal = y_train.quantile(percentiles)\n",
    "resultpred = pd.Series(y_pred_train).quantile(percentiles)\n",
    "plt.plot(resultreal,resultpred, label=\"Q-Q plot real vs pred\", marker=\"*\", linestyle=\"--\")\n",
    "plt.plot(resultreal, resultreal, label=\"Q-Q plot real \")\n",
    "plt.xlabel(\"Real prices\")\n",
    "plt.ylabel(\"Predicted prices\")\n",
    "plt.legend()\n",
    "plt.show()"
   ]
  },
  {
   "cell_type": "markdown",
   "id": "5013d976",
   "metadata": {},
   "source": [
    "The examination of the Q-Q plot in training set for both actual and predicted prices indicates that the predictive model tends to overestimate prices below 15000 and underestimate prices above 15000 to a significantly larger extent."
   ]
  },
  {
   "cell_type": "markdown",
   "id": "9137a31a",
   "metadata": {},
   "source": [
    "**Visualization of mapping between actual prices and predicted prices in the test set**"
   ]
  },
  {
   "cell_type": "code",
   "execution_count": 546,
   "id": "b5148018",
   "metadata": {
    "scrolled": true
   },
   "outputs": [
    {
     "data": {
      "image/png": "[encoded data removed]",
      "text/plain": [
       "<Figure size 1200x300 with 1 Axes>"
      ]
     },
     "metadata": {},
     "output_type": "display_data"
    }
   ],
   "source": [
    "# Actual vs. Predicted plot\n",
    "plt.figure(figsize=(12, 3))\n",
    "plt.scatter(y_test, y_pred)\n",
    "plt.plot([min(y_test), max(y_test)], [min(y_pred), max(y_pred)], '--', color='red')  # diagonal line\n",
    "plt.title('Actual vs. Predicted prices in Test set')\n",
    "plt.xlabel('Actual prices')\n",
    "plt.ylabel('Predicted prices')\n",
    "plt.show()"
   ]
  },
  {
   "cell_type": "markdown",
   "id": "99461d84",
   "metadata": {},
   "source": [
    "**Q-Q plot in test set**"
   ]
  },
  {
   "cell_type": "code",
   "execution_count": 547,
   "id": "2a092249",
   "metadata": {
    "scrolled": true
   },
   "outputs": [
    {
     "data": {
      "image/png": "[encoded data removed]",
      "text/plain": [
       "<Figure size 500x300 with 1 Axes>"
      ]
     },
     "metadata": {},
     "output_type": "display_data"
    }
   ],
   "source": [
    "# Define the percentiles you want to calculate\n",
    "percentiles = [0, 0.05, 0.10, 0.20, 0.25,0.30, 0.35,0.45, 0.50,0.60, 0.75,0.85,0.95, 1]  # List of percentiles from 0 to 100\n",
    "\n",
    "plt.figure(figsize=(5,3))\n",
    "plt.title(\"Q-Q plot comparison in test set\")\n",
    "# Calculate the percentiles using the quantile() method\n",
    "resultreal = y_test.quantile(percentiles)\n",
    "resultpred = pd.Series(y_pred).quantile(percentiles)\n",
    "plt.plot(resultreal,resultpred, label=\"Q-Q plot real vs pred\", marker=\"*\", linestyle=\"--\")\n",
    "plt.plot(resultreal, resultreal, label=\"Q-Q plot real \")\n",
    "plt.xlabel(\"Real prices\")\n",
    "plt.ylabel(\"Predicted prices\")\n",
    "plt.legend()\n",
    "plt.show()"
   ]
  },
  {
   "cell_type": "markdown",
   "id": "447a61aa",
   "metadata": {},
   "source": [
    "The examination of the Q-Q plot in test set for both actual and predicted prices indicates that\n",
    "the predictive model tends to overestimate prices below 15000 and underestimate prices above 15000 to a significantly larger extent."
   ]
  },
  {
   "cell_type": "markdown",
   "id": "3ae2cc62",
   "metadata": {},
   "source": [
    "**Distribution of residuals**  <a name=\"residuals\"></a>"
   ]
  },
  {
   "cell_type": "code",
   "execution_count": 548,
   "id": "b3b8cc17",
   "metadata": {},
   "outputs": [
    {
     "data": {
      "image/png": "[encoded data removed]",
      "text/plain": [
       "<Figure size 800x300 with 2 Axes>"
      ]
     },
     "metadata": {},
     "output_type": "display_data"
    }
   ],
   "source": [
    "residual_test = y_test-y_pred\n",
    "residual_train = y_train - y_pred_train\n",
    "\n",
    "plt.figure(figsize=(8,3))\n",
    "plt.subplot(1, 2, 1)  # 1 row, 2 columns, first diagram\n",
    "pd.Series(residual_train).hist(bins=50)\n",
    "plt.title('Residual distribution in train set')\n",
    "\n",
    "# Create the second diagram\n",
    "plt.subplot(1, 2, 2)  # 1 row, 2 columns, second diagram\n",
    "residual_test.hist(bins=50)\n",
    "plt.title('Residual distribution in test set')\n",
    "\n",
    "# Adjust layout to prevent overlap\n",
    "plt.tight_layout()\n",
    "\n",
    "# Show the diagrams\n",
    "plt.show()"
   ]
  },
  {
   "cell_type": "markdown",
   "id": "af178ea8",
   "metadata": {},
   "source": [
    "One anticipated outcome of modeling is the presence of normally distributed residuals. The distribution of residuals in both the training and test sets demonstrates this norm, affirming that the model assumptions hold true. Consequently, the model gains robustness, reducing the risk of bias or inefficiency. Deviations from normality often signal potential shortcomings, such as overlooked explanatory variables or inadequately captured relationships between variables."
   ]
  },
  {
   "cell_type": "markdown",
   "id": "d8f6a0f0",
   "metadata": {},
   "source": [
    "**Adjustment of prices based on adjusted pricing strategy**  <a name=\"adjusted_prices_model\">"
   ]
  },
  {
   "cell_type": "code",
   "execution_count": 549,
   "id": "7a6bc4cc",
   "metadata": {},
   "outputs": [],
   "source": [
    "# Set probability threshold for high probability of selling\n",
    "probability_threshold = 0.8"
   ]
  },
  {
   "cell_type": "code",
   "execution_count": 550,
   "id": "e1707bf9",
   "metadata": {},
   "outputs": [],
   "source": [
    "# Function to calculate adjusted prices\n",
    "def calculate_adjusted_prices(predicted_prices, market_values, probability_threshold):\n",
    "    adjusted_prices = []\n",
    "    for i in range(0,len(predicted_prices)):\n",
    "        overcharge_ratio = predicted_prices[i] / market_values[i] - 1\n",
    "        probability_of_sale = max(1 - min(1, overcharge_ratio), 0)\n",
    "        if overcharge_ratio > 0 and probability_of_sale > probability_threshold:\n",
    "            adjusted_prices.append(predicted_prices[i] * probability_of_sale)\n",
    "        else:\n",
    "            adjusted_prices.append(predicted_prices[i])\n",
    "    return np.array(adjusted_prices)"
   ]
  },
  {
   "cell_type": "markdown",
   "id": "2ee86914",
   "metadata": {},
   "source": [
    "**Prediction over the whole dataset**"
   ]
  },
  {
   "cell_type": "code",
   "execution_count": 551,
   "id": "d35eaec5",
   "metadata": {},
   "outputs": [],
   "source": [
    "model.fit(X, y)\n",
    "y_pred_whole = model.predict(X)"
   ]
  },
  {
   "cell_type": "markdown",
   "id": "0be6fe82",
   "metadata": {},
   "source": [
    "Calculate adjusted prices for the whole dataset"
   ]
  },
  {
   "cell_type": "code",
   "execution_count": 552,
   "id": "a191e1dc",
   "metadata": {},
   "outputs": [
    {
     "name": "stdout",
     "output_type": "stream",
     "text": [
      "[ 3334.23656933  6131.99479189  6360.01397569 ... 12342.87878013\n",
      "  3760.89333799 20892.05619187]\n"
     ]
    }
   ],
   "source": [
    "# Calculate adjusted prices for training data\n",
    "adjusted_prices_whole = calculate_adjusted_prices(y_pred_whole, y.to_list(), probability_threshold)\n",
    "print(adjusted_prices_whole)"
   ]
  },
  {
   "cell_type": "markdown",
   "id": "7bbde996",
   "metadata": {},
   "source": [
    "**Visualization of results supporting the adjusted price strategy**\n",
    "\n"
   ]
  },
  {
   "cell_type": "code",
   "execution_count": 553,
   "id": "ed5f227f",
   "metadata": {},
   "outputs": [],
   "source": [
    "# Sample predicted prices and adjusted prices\n",
    "predicted_prices = np.array(y_pred_whole)\n",
    "adjusted_prices = np.array(adjusted_prices_whole)\n",
    "market_values = y.values\n",
    "\n",
    "predicted_serie = pd.Series(predicted_prices)\n",
    "adjusted_serie = pd.Series(adjusted_prices_whole)"
   ]
  },
  {
   "cell_type": "markdown",
   "id": "a1d061f1",
   "metadata": {},
   "source": [
    "**Calculation of overcharge, probability, profit and losses of saling for the adjusted prices**"
   ]
  },
  {
   "cell_type": "code",
   "execution_count": 554,
   "id": "96a49cc5",
   "metadata": {},
   "outputs": [],
   "source": [
    "df888 = pd.DataFrame()\n",
    "df888[\"price\"] = y.values\n",
    "df888[\"predicted_prices\"] = predicted_serie\n",
    "df888[\"adjusted_prices\"] = adjusted_serie\n",
    "\n",
    "# Overcharge for the predicted prices\n",
    "df888[\"overcharge_pred\"] = df888.predicted_prices / df888.price  -1 \n",
    "\n",
    "# Probability of sale for the predicted prices\n",
    "df888[\"prob_sale_pred\"] =  1 - df888.overcharge_pred.apply(lambda x: x if x < 1 else 1)\n",
    "#df888[\"prob_sale_pred\"] = df888[\"prob_sale_pred\"].apply(lambda x : x if x > 0 else 0)\n",
    "\n",
    "# Overcharge for the adjusted prices\n",
    "df888[\"overcharge_adj\"] = df888.adjusted_prices / df888.price  -1 \n",
    "\n",
    "# Probability of sale for the adjusted prices\n",
    "df888[\"prob_sale_adj\"] =  1 - df888.overcharge_adj.apply(lambda x: x if x < 1 else 1)\n",
    "#df888[\"prob_sale_adj\"] = df888[\"prob_sale_adj\"].apply(lambda x : x if x > 0 else 0)\n",
    "\n",
    "# Profit for the predicted prices\n",
    "df888[\"profit_pred\"] = df888.predicted_prices - df888.price\n",
    "df888[\"profit_pred\"] = df888.profit_pred.apply(lambda x : x if x > 0 else 0)\n",
    "\n",
    "#Profit for the adjusted prices\n",
    "df888[\"profit_adj\"] = df888.adjusted_prices - df888.price\n",
    "df888[\"profit_adj\"] = df888.profit_adj.apply(lambda x : x if x > 0 else 0)\n",
    "\n",
    "#Loss for the predicted prices\n",
    "df888[\"loss_pred\"] = df888.predicted_prices - df888.price\n",
    "df888[\"loss_pred\"] = df888.loss_pred.apply(lambda x : x if x < 0 else 0)\n",
    "\n",
    "#Los for the adjusted prices\n",
    "df888[\"loss_adj\"] = df888.adjusted_prices - df888.price\n",
    "df888[\"loss_adj\"] = df888.loss_adj.apply(lambda x : x if x < 0 else 0)\n"
   ]
  },
  {
   "cell_type": "markdown",
   "id": "e7af1be0",
   "metadata": {},
   "source": [
    "**Visualizing change in profit and loss** <a name=\"profit_loss\"></a>"
   ]
  },
  {
   "cell_type": "code",
   "execution_count": 557,
   "id": "2fa5fb7d",
   "metadata": {},
   "outputs": [
    {
     "data": {
      "image/png": "[encoded data removed]",
      "text/plain": [
       "<Figure size 1200x300 with 2 Axes>"
      ]
     },
     "metadata": {},
     "output_type": "display_data"
    }
   ],
   "source": [
    "plt.figure(figsize=(12,3))\n",
    "\n",
    "plt.subplot(1, 2, 1)\n",
    "df8888 = df888.copy()\n",
    "df88881 = df8888[df8888.profit_pred > 0]\n",
    "df88882 = df8888[df8888.profit_adj > 0]\n",
    "df88881.profit_pred.hist(bins=100,alpha=0.6,label=\"profit_predicted\")\n",
    "df88882.profit_adj.hist(bins=100,alpha=0.6,label=\"profit_predicted_adjusted\")\n",
    "plt.legend()\n",
    "\n",
    "plt.subplot(1, 2, 2)\n",
    "df8882 = df888.copy()\n",
    "df88821 = df8882[df8882.loss_pred < 0]\n",
    "df88822 = df8882[df8882.loss_adj < 0]\n",
    "df88821.loss_pred.hist(bins=100,label=\"loss_predicted\",alpha=0.6)\n",
    "df88822.loss_adj.hist(bins=100,label=\"loss_predicted_adjusted\",alpha=0.6)\n",
    "plt.legend()\n",
    "plt.show()\n"
   ]
  },
  {
   "cell_type": "markdown",
   "id": "f82d32a9",
   "metadata": {},
   "source": [
    "**Q-Q plot probability of saling**  <a name=\"pro_of_saling\"></a>"
   ]
  },
  {
   "cell_type": "code",
   "execution_count": 568,
   "id": "df33ddd2",
   "metadata": {},
   "outputs": [
    {
     "data": {
      "image/png": "[encoded data removed]",
      "text/plain": [
       "<Figure size 500x300 with 1 Axes>"
      ]
     },
     "metadata": {},
     "output_type": "display_data"
    }
   ],
   "source": [
    "# Define the percentiles you want to calculate\n",
    "percentiles = [0, 0.05, 0.10, 0.20, 0.25,0.30, 0.35,0.45, 0.50,0.60, 0.75,0.85,0.95, 1]  # List of percentiles from 0 to 100\n",
    "\n",
    "plt.figure(figsize=(5,3))\n",
    "plt.title(\"Q-Q plot comparison probability of saling\")\n",
    "# Calculate the percentiles using the quantile() method\n",
    "prob_adj = df888.prob_sale_adj.quantile(percentiles)\n",
    "prob_pred = df888.prob_sale_pred.quantile(percentiles)\n",
    "plt.plot(prob_pred ,prob_adj, label=\"Q-Q plot real vs pred\", marker=\"*\", linestyle=\"--\")\n",
    "plt.plot(prob_pred , prob_pred , label=\"Q-Q plot predicted \")\n",
    "plt.xlabel(\"Probability predicted\")\n",
    "plt.ylabel(\"Probability after adjustment\")\n",
    "plt.legend()\n",
    "plt.show()"
   ]
  },
  {
   "cell_type": "markdown",
   "id": "70b4204b",
   "metadata": {},
   "source": [
    "The likelihood of selling for both the predicted and adjusted prices exhibits a similar distribution, indicating comparable probabilities. However, the adjusted prices show a notable rise in the probability of sales. This suggests that while the general trend remains consistent, adjustments to pricing have significantly enhanced the likelihood of successful sales."
   ]
  },
  {
   "cell_type": "markdown",
   "id": "3c610365",
   "metadata": {},
   "source": [
    "## QUESTIONS ASIGNED <a name=\"asigned_question\"></a>"
   ]
  },
  {
   "cell_type": "markdown",
   "id": "bdf9d323",
   "metadata": {},
   "source": [
    "Data Analysis\n",
    "During your analysis we would like you to answer the following questions:\n",
    "Take each of the following 3 variables:\n",
    "• odometer\n",
    "• condition\n",
    "• vin\n",
    "For each of them analyze the following points:\n",
    "1. Evaluate the completeness of the variable and highlight any findings\n",
    "you think relevant for a discussion.\n",
    "2. Evaluate how well the value discriminates your dependent variable\n",
    "and determine if you would use it in your model.\n",
    "3. If the previous answer was affirmative then how would you propose to\n",
    "include it in your model. That is, what transformations, techniques,\n",
    "or tools would you use to include it.\n",
    "Are there any duplicate, redundant or irrelevant variables in your data\n",
    "set? If there are, how would you deal with them?"
   ]
  },
  {
   "cell_type": "markdown",
   "id": "aef35064",
   "metadata": {},
   "source": [
    "### Odometer:  <a name=\"variable_odometer_a\"></a>"
   ]
  },
  {
   "cell_type": "markdown",
   "id": "95350f23",
   "metadata": {},
   "source": [
    "Based on the statistics provided for the variable \"odometer,\" it appears that the data is positively skewed, as indicated by a mean larger than the median. Given this skewness and the influence of outliers, it is appropiate to impute missing values or handle outliers using the median rather than the mean. The median is less affected by extreme values and provides a more robust measure of central tendency in such cases.\n",
    "\n",
    "It is also important to take into consideration, that the precision of odometer readings provided by users during car purchases is relatively low. Because of that, a numeric representation of the odometer variable is not adecuate.  To address these issues, the variable's values can be categorized into distinct mileage ranges:\n",
    "\n",
    "1. Low Mileage: 0 - 30,000 miles\n",
    "2. Moderate Mileage: 30,001 - 70,000 miles\n",
    "3. High Mileage: 70,001 - 100,000 miles\n",
    "4. Very High Mileage: 100,001 miles and above\n",
    "\n",
    "These categorized ranges offer a practical approach for classifying odometer readings based on different mileage levels.\n",
    "\n",
    "Subsequently, the variable \"odometer_cat\" was created. The distribution indicates that a significant portion of vehicles falls within the \"Very High\" and \"High\" mileage categories, suggesting that many cars have accumulated considerable mileage.\n",
    "\n",
    "Furthermore, the variable \"odometer\" exhibits a 0.22 R-squared value in relation to the price variable. This indicates that approximately 22% of the variability in price can be explained by the odometer readings, suggesting a moderate level of association between mileage and price."
   ]
  },
  {
   "cell_type": "markdown",
   "id": "5eafac11",
   "metadata": {},
   "source": [
    "### Condition: <a name=\"variable_condition_a\"></a>"
   ]
  },
  {
   "cell_type": "markdown",
   "id": "1cff7a34",
   "metadata": {},
   "source": [
    "Based on the previous process:\n",
    "\n",
    "The variable \"condition\" has a relatively low percentage of missing values, approximately 4.02%. This suggests that most of the data for this variable is available, which is beneficial for analysis.\n",
    "\n",
    "The variable \"condition\" has several categories indicating the condition of the vehicles listed. These categories range from \"excellent\" and \"good\" to \"like new,\" \"fair,\" \"new,\" and \"salvage.\" The distribution shows that \"excellent\" and \"good\" are the most common conditions listed, followed by \"like new,\" \"fair,\" \"new,\" and \"salvage.\"\n",
    "\n",
    "The categories \"excellent,\" \"good,\" and \"like new\" suggest varying degrees of vehicle quality, with \"excellent\" indicating the highest quality and \"like new\" suggesting a premium quality comparable to a new vehicle. To simplify analysis and address missing values, the categories will be grouped as follows:\n",
    "   - \"Excellent\" and \"good\" will be grouped as \"good condition\" (the most frequent category).\n",
    "   - \"Like new\" and \"new\" will be grouped as \"like new or new.\"\n",
    "   - \"Fair\" and \"salvage\" will remain as separate categories.\n",
    "\n",
    "To handle missing values, imputation with the mode (most frequent category) will be applied. This ensures that missing values are replaced with the most common condition category, which is \"good condition\" in this case. After imputation, the distribution of condition categories shows that the majority of vehicles are classified as being in \"good condition,\" followed by \"like new or new,\" \"fair,\" and \"salvage.\"\n",
    "\n",
    "On the other side, the variable \"condition\" has a relatively low R-squared value of approximately 0.0186 in relation to the price variable. This indicates that only about 1.86% of the variability in price can be explained by the condition of the vehicles. Thus, while condition may have some influence on price, other factors likely play a more significant role in determining the price of a vehicle."
   ]
  },
  {
   "cell_type": "markdown",
   "id": "ce779248",
   "metadata": {},
   "source": [
    "### VIN (Vehicle Identification Number):  <a name=\"variable_vin_a\"></a>\n",
    "\n",
    "Based on the previous analysis:\n",
    "\n",
    "The dataset contains 1307 duplicated Vehicle Identification Numbers (VINs), indicating that there are multiple entries for the same vehicles within the dataset. Duplicate rows, particularly those based on VINs, are being removed from the dataset. This decision is justified for the following reasons:\n",
    "\n",
    "1. Uniqueness: VINs are unique identifiers assigned to individual vehicles. Including duplicate VINs in the dataset does not provide meaningful information for predicting car prices, as each VIN corresponds to a specific car and does not contain inherent characteristics related to price prediction.\n",
    "\n",
    "2. Non-Predictive: VINs are not predictive of car prices themselves. While VINs are essential for purposes such as vehicle registration and tracking, they do not directly influence the price of a car.\n",
    "\n",
    "By removing duplicate rows based on VINs, the dataset is streamlined and cleaned, ensuring that each vehicle is represented only once. This enhances the accuracy and reliability of any subsequent analysis or modeling performed using the dataset.\n"
   ]
  },
  {
   "cell_type": "markdown",
   "id": "f0d029aa",
   "metadata": {},
   "source": [
    "### Discriminatory power "
   ]
  },
  {
   "cell_type": "markdown",
   "id": "993abecc",
   "metadata": {},
   "source": [
    "here are the conclusions related:\n",
    "\n",
    "1. **Removing Predictor Variables with Low Discriminatory Power**:\n",
    "   - When a categorical variable is overwhelmingly dominated by a single category, its ability to discriminate or provide useful information diminishes.\n",
    "   - In cases where one category encompasses over 90% or 95% of the observations, the variable's usefulness for prediction decreases significantly.\n",
    "   - For example, variables like \"title_status,\" \"transmission,\" and \"fuel\" have one dominant category that accounts for a substantial majority of the data.\n",
    "   - Such imbalances can lead to biased model training and poor generalization, so removing these predictors is a suitable solution.\n",
    "\n",
    "2. **Relevance for Prediction of Latitude, Longitude, and Description Columns**:\n",
    "   - Latitude and longitude coordinates represent geographic location, which is already indicated through the \"State\" and \"Region\" columns. Including them as predictor variables may not provide meaningful insights for price prediction.\n",
    "   - Car descriptions are subjective and unstructured, and including them in the dataset increases complexity without necessarily improving model accuracy. Removing them streamlines the dataset.\n",
    "\n",
    "3. **Removing the \"Region\" Column**:\n",
    "   - The decision to exclude the \"Region\" variable is based on the specific goals of the model.\n",
    "   - In this context, the focus is on precisely forecasting prices across diverse regulatory landscapes rather than capturing general market trends, which can be highly variable over time.\n",
    "   - Additionally, incorporating both \"State\" and \"Region\" could overly complicate the model and reduce its practical utility.\n",
    "\n",
    "Overall, by removing these variables with low discriminatory power and limited relevance for prediction, the dataset becomes more focused and better suited for accurate price prediction modeling."
   ]
  },
  {
   "cell_type": "markdown",
   "id": "e949aa51",
   "metadata": {},
   "source": [
    "### Target Variable \"price\" <a name=\"variable_price_a\"></a>"
   ]
  },
  {
   "cell_type": "markdown",
   "id": "07b075e8",
   "metadata": {},
   "source": [
    "The list of car prices encompasses a diverse range of values, with an average price of approximately 55,116 units. The notable standard deviation of around 6,795,834 suggests considerable variability, indicating that prices vary significantly from this average. While most cars are priced within a reasonable range, outliers exist, exemplified by the minimum price of 0 and the maximum of approximately 1,116,081,000. Furthermore, quartile analysis reveals that three-quarters of prices fall below 17,900, offering insights into the distribution of prices among the listed cars. However, 25% of prices are below 4,250.\n",
    "\n",
    "When considering the legal framework surrounding car sales, jurisdictions vary in their regulations. While some areas may lack specific legal minimum values for car sales, laws governing fair and transparent transactions are commonplace. For instance, regulations governing the sale of used cars may exist to prevent predatory pricing or unfair practices, potentially setting minimum prices for vehicles.\n",
    "\n",
    "Regarding missing price information, a significant portion of the dataset, approximately 8.50%, lacks pricing details. Imputing missing values is a common approach but poses several drawbacks, including bias introduction, overfitting, data leakage, reduced model interpretability, and potential loss of information. Given the absence of substantial real-world car prices below 1,000 units, it may be assumed that this represents a minimum legal price for a car. Consequently, in this context, removing rows with missing prices could be preferable to imputing values, as imputation may introduce bias or inaccuracies into the model.\n",
    "\n",
    "Lastly, the removal of outliers using the Interquartile Range (IQR) method is considered. This is motivated by the desire to maintain model performance, uphold assumptions of normality, and improve the robustness and generalization ability of the predictive model. Approximately 3.78% of the dataset is identified as outliers, warranting their removal to enhance model validity and statistical interpretations."
   ]
  },
  {
   "cell_type": "markdown",
   "id": "db931042",
   "metadata": {},
   "source": [
    "### MODEL <a name=\"model_a\"></a>"
   ]
  },
  {
   "cell_type": "markdown",
   "id": "2d0e5dd6",
   "metadata": {},
   "source": [
    "\n",
    "1. **Model Performance:** The model's performance, evaluated using mean squared error, indicates how accurately it predicts prices. While it performs reasonably well on data it was trained on, it doesn't perform as well on new, unseen data. This suggests that the model might struggle with accurately predicting prices for cars it hasn't encountered before.\n",
    "\n",
    "2. **Prediction Patterns:** When comparing actual prices to those predicted by the model, a consistent pattern emerges. It tends to overestimate prices for lower-priced cars and underestimate prices for higher-priced ones. This pattern should be taken into account when relying on the model's predictions, as it may affect decision-making.\n",
    "\n",
    "3. **Residuals Analysis:** A positive aspect of the model is that the differences between actual and predicted prices, known as residuals, follow a normal distribution. This means that the model's assumptions are valid, and it's less likely to produce biased or inefficient predictions. It provides more confidence in the reliability of the model's output.\n",
    "\n",
    "4. **Likelihood of Sales:** The likelihood of selling for both the predicted and adjusted prices shows similar distributions, indicating comparable probabilities. However, when prices are adjusted, there is a noticeable increase in the probability of sales. This suggests that adjusting prices can significantly improve the chances of a successful sale, while still maintaining consistency with the overall trend."
   ]
  },
  {
   "cell_type": "code",
   "execution_count": null,
   "id": "f39db094",
   "metadata": {},
   "outputs": [],
   "source": []
  },
  {
   "cell_type": "code",
   "execution_count": null,
   "id": "1727d867",
   "metadata": {},
   "outputs": [],
   "source": []
  },
  {
   "cell_type": "code",
   "execution_count": null,
   "id": "09b7baff",
   "metadata": {},
   "outputs": [],
   "source": []
  }
 ],
 "metadata": {
  "kernelspec": {
   "display_name": "Python 3 (ipykernel)",
   "language": "python",
   "name": "python3"
  },
  "language_info": {
   "codemirror_mode": {
    "name": "ipython",
    "version": 3
   },
   "file_extension": ".py",
   "mimetype": "text/x-python",
   "name": "python",
   "nbconvert_exporter": "python",
   "pygments_lexer": "ipython3",
   "version": "3.9.13"
  }
 },
 "nbformat": 4,
 "nbformat_minor": 5
}
